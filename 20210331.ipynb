{
  "nbformat": 4,
  "nbformat_minor": 0,
  "metadata": {
    "colab": {
      "name": "20210331.ipynb",
      "provenance": [],
      "authorship_tag": "ABX9TyOlGb2gBOELrkSDoP/22zK8",
      "include_colab_link": true
    },
    "kernelspec": {
      "name": "python3",
      "display_name": "Python 3"
    },
    "language_info": {
      "name": "python"
    }
  },
  "cells": [
    {
      "cell_type": "markdown",
      "metadata": {
        "id": "view-in-github",
        "colab_type": "text"
      },
      "source": [
        "<a href=\"https://colab.research.google.com/github/shimshimee/class2021Spring/blob/main/20210331.ipynb\" target=\"_parent\"><img src=\"https://colab.research.google.com/assets/colab-badge.svg\" alt=\"Open In Colab\"/></a>"
      ]
    },
    {
      "cell_type": "markdown",
      "metadata": {
        "id": "_b47QzHr4qVj"
      },
      "source": [
        "* Pitch\n",
        "\n",
        "아: 1832 Hz\n",
        "\n",
        "애: 1687 Hz\n",
        "\n",
        "* Intensity\n",
        "\n",
        "아: 63.82 dB\n",
        "\n",
        "애: 63.57 dB\n",
        "\n",
        "* Formant\n",
        "\n",
        "아: 741.7 Hz, 1396 Hz\n",
        "\n",
        "애: 517.3 Hz, 1977 Hz\n",
        "\n",
        "* Duration\n",
        "\n",
        "아: 553 ms\n",
        "\n",
        "애: 553 ms"
      ]
    }
  ]
}