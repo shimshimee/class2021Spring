{
  "nbformat": 4,
  "nbformat_minor": 0,
  "metadata": {
    "colab": {
      "name": "20210317.ipynb",
      "provenance": [],
      "authorship_tag": "ABX9TyNKRLq03g9ixcK/bx73ohMw",
      "include_colab_link": true
    },
    "kernelspec": {
      "name": "python3",
      "display_name": "Python 3"
    }
  },
  "cells": [
    {
      "cell_type": "markdown",
      "metadata": {
        "id": "view-in-github",
        "colab_type": "text"
      },
      "source": [
        "<a href=\"https://colab.research.google.com/github/shimshimee/class2021Spring/blob/main/20210317.ipynb\" target=\"_parent\"><img src=\"https://colab.research.google.com/assets/colab-badge.svg\" alt=\"Open In Colab\"/></a>"
      ]
    },
    {
      "cell_type": "code",
      "metadata": {
        "colab": {
          "base_uri": "https://localhost:8080/"
        },
        "id": "571O14ljuhHH",
        "outputId": "db5f84cc-9085-401f-ff2c-ea244e93763f"
      },
      "source": [
        "for i in range(0,10):\r\n",
        "  for j in range(5,7):\r\n",
        "    if i >=7:\r\n",
        "      print(i-j)"
      ],
      "execution_count": 1,
      "outputs": [
        {
          "output_type": "stream",
          "text": [
            "2\n",
            "1\n",
            "3\n",
            "2\n",
            "4\n",
            "3\n"
          ],
          "name": "stdout"
        }
      ]
    },
    {
      "cell_type": "code",
      "metadata": {
        "colab": {
          "base_uri": "https://localhost:8080/"
        },
        "id": "KZbMTVtvu6rM",
        "outputId": "56e84278-0449-4733-94e2-551067331d98"
      },
      "source": [
        "a = ['one', 'two', 'three', 'four']\r\n",
        "b = [i for i in a if len(i) <4]\r\n",
        "b"
      ],
      "execution_count": 2,
      "outputs": [
        {
          "output_type": "execute_result",
          "data": {
            "text/plain": [
              "['one', 'two']"
            ]
          },
          "metadata": {
            "tags": []
          },
          "execution_count": 2
        }
      ]
    }
  ]
}