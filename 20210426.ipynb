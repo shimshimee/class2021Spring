{
  "nbformat": 4,
  "nbformat_minor": 0,
  "metadata": {
    "colab": {
      "name": "20210426.ipynb",
      "provenance": [],
      "authorship_tag": "ABX9TyPkgY1Qmw34qXgSvWMffzZW",
      "include_colab_link": true
    },
    "kernelspec": {
      "name": "python3",
      "display_name": "Python 3"
    },
    "language_info": {
      "name": "python"
    }
  },
  "cells": [
    {
      "cell_type": "markdown",
      "metadata": {
        "id": "view-in-github",
        "colab_type": "text"
      },
      "source": [
        "<a href=\"https://colab.research.google.com/github/shimshimee/class2021Spring/blob/main/20210426.ipynb\" target=\"_parent\"><img src=\"https://colab.research.google.com/assets/colab-badge.svg\" alt=\"Open In Colab\"/></a>"
      ]
    },
    {
      "cell_type": "code",
      "metadata": {
        "id": "s7shwanS02-v"
      },
      "source": [
        "from matplotlib import pyplot as plt\n",
        "import numpy as np\n",
        "import IPython.display as ipd\n",
        "from scipy.signal import lfilter"
      ],
      "execution_count": 4,
      "outputs": []
    },
    {
      "cell_type": "code",
      "metadata": {
        "colab": {
          "base_uri": "https://localhost:8080/",
          "height": 134
        },
        "id": "w8wBMFZA0-zt",
        "outputId": "149b11bb-7655-4c07-8253-5b1cf9b5fc6f"
      },
      "source": [
        "sr = 10000\n",
        "dur = 2\n",
        "treq = 440\n",
        "t = np.arrange(1,sr * dur + 1) / sr\n",
        "\n",
        "s = np.sin(theta)\n",
        "phasor (amp, sr, dur, freq) = amp + sr + dur + freq\n",
        "return s\n",
        "return theta\n",
        "return t"
      ],
      "execution_count": 7,
      "outputs": [
        {
          "output_type": "error",
          "ename": "SyntaxError",
          "evalue": "ignored",
          "traceback": [
            "\u001b[0;36m  File \u001b[0;32m\"<ipython-input-7-6986d3789b38>\"\u001b[0;36m, line \u001b[0;32m7\u001b[0m\n\u001b[0;31m    phasor (amp, sr, dur, freq) = amp + sr + dur + freq\u001b[0m\n\u001b[0m                                                       ^\u001b[0m\n\u001b[0;31mSyntaxError\u001b[0m\u001b[0;31m:\u001b[0m can't assign to function call\n"
          ]
        }
      ]
    }
  ]
}