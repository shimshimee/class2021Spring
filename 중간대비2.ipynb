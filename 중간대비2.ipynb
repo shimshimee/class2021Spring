{
  "nbformat": 4,
  "nbformat_minor": 0,
  "metadata": {
    "colab": {
      "name": "중간대비2.ipynb",
      "provenance": [],
      "authorship_tag": "ABX9TyNtX+ZIm1KT5uUEUltez8Vt",
      "include_colab_link": true
    },
    "kernelspec": {
      "name": "python3",
      "display_name": "Python 3"
    },
    "language_info": {
      "name": "python"
    }
  },
  "cells": [
    {
      "cell_type": "markdown",
      "metadata": {
        "id": "view-in-github",
        "colab_type": "text"
      },
      "source": [
        "<a href=\"https://colab.research.google.com/github/shimshimee/class2021Spring/blob/main/%EC%A4%91%EA%B0%84%EB%8C%80%EB%B9%842.ipynb\" target=\"_parent\"><img src=\"https://colab.research.google.com/assets/colab-badge.svg\" alt=\"Open In Colab\"/></a>"
      ]
    },
    {
      "cell_type": "code",
      "metadata": {
        "colab": {
          "base_uri": "https://localhost:8080/"
        },
        "id": "wYYpiQSkax0m",
        "outputId": "d9152740-10de-4523-e3b8-036409f63a5c"
      },
      "source": [
        "n = [1,2,3,4]\n",
        "for i in range(len(n)):\n",
        "  print(i)"
      ],
      "execution_count": 1,
      "outputs": [
        {
          "output_type": "stream",
          "text": [
            "0\n",
            "1\n",
            "2\n",
            "3\n"
          ],
          "name": "stdout"
        }
      ]
    },
    {
      "cell_type": "code",
      "metadata": {
        "colab": {
          "base_uri": "https://localhost:8080/"
        },
        "id": "xhl7ILbPa6zR",
        "outputId": "d112bc78-f6d4-4482-9160-7fc053347c1e"
      },
      "source": [
        "a = [1,2,[3,4]]\n",
        "print(a[-1][-1])"
      ],
      "execution_count": 4,
      "outputs": [
        {
          "output_type": "stream",
          "text": [
            "4\n"
          ],
          "name": "stdout"
        }
      ]
    },
    {
      "cell_type": "code",
      "metadata": {
        "colab": {
          "base_uri": "https://localhost:8080/"
        },
        "id": "cNApGNHjbEG9",
        "outputId": "5f84c974-a21a-42ab-c5bb-85acbf2cbefb"
      },
      "source": [
        "b = [1,'a',{'a':[3,6], 'b':[9]}, 'b']\n",
        "print(b[-2]['b'][-1])"
      ],
      "execution_count": 5,
      "outputs": [
        {
          "output_type": "stream",
          "text": [
            "9\n"
          ],
          "name": "stdout"
        }
      ]
    },
    {
      "cell_type": "code",
      "metadata": {
        "colab": {
          "base_uri": "https://localhost:8080/"
        },
        "id": "YQn9g44FbXTw",
        "outputId": "f1ffcc39-744d-4346-be24-2b0867565901"
      },
      "source": [
        "c = [1, 'a', {'a':'abc', 'b':'def'}]\n",
        "print(c[-1]['b'][-2])"
      ],
      "execution_count": 6,
      "outputs": [
        {
          "output_type": "stream",
          "text": [
            "e\n"
          ],
          "name": "stdout"
        }
      ]
    },
    {
      "cell_type": "code",
      "metadata": {
        "colab": {
          "base_uri": "https://localhost:8080/"
        },
        "id": "vcS0s1c3bh0L",
        "outputId": "018a51ba-d8fa-4ef6-9b5e-7648f9a506c8"
      },
      "source": [
        "d = ['th', 's']\n",
        "print('i'.join(d)[-3])"
      ],
      "execution_count": 7,
      "outputs": [
        {
          "output_type": "stream",
          "text": [
            "h\n"
          ],
          "name": "stdout"
        }
      ]
    },
    {
      "cell_type": "code",
      "metadata": {
        "colab": {
          "base_uri": "https://localhost:8080/"
        },
        "id": "lIt8Xpp6bpJd",
        "outputId": "5a82f9e1-fdff-47de-8322-de45d0def0bc"
      },
      "source": [
        "e = [1, 1.2, 'k', [1, [2], {'a', 'apple'}]]\n",
        "for x in e:\n",
        "  if type(x) == 'dict':\n",
        "    print(x)\n",
        "  else:\n",
        "    if x == 'k':\n",
        "      print(x)"
      ],
      "execution_count": 11,
      "outputs": [
        {
          "output_type": "stream",
          "text": [
            "k\n"
          ],
          "name": "stdout"
        }
      ]
    },
    {
      "cell_type": "code",
      "metadata": {
        "colab": {
          "base_uri": "https://localhost:8080/"
        },
        "id": "mT4kNuj3cBnu",
        "outputId": "b0306748-13a7-42d4-ee94-2c4b7c2bfea1"
      },
      "source": [
        "t = 0\n",
        "for p in range(3):\n",
        "  if p <= 1:\n",
        "    for q in range(4):\n",
        "      t += q\n",
        "    for r in range(2):\n",
        "      t += r\n",
        "print(t*r)"
      ],
      "execution_count": 12,
      "outputs": [
        {
          "output_type": "stream",
          "text": [
            "14\n"
          ],
          "name": "stdout"
        }
      ]
    },
    {
      "cell_type": "code",
      "metadata": {
        "colab": {
          "base_uri": "https://localhost:8080/"
        },
        "id": "5aYUZ9nZcgdP",
        "outputId": "2522f32f-a319-42e8-e074-6dbd7a1ffbc6"
      },
      "source": [
        "a = {1,2,3,4}\n",
        "if len(a) == 3:\n",
        "  print(0)\n",
        "else:\n",
        "  print(1)"
      ],
      "execution_count": 13,
      "outputs": [
        {
          "output_type": "stream",
          "text": [
            "1\n"
          ],
          "name": "stdout"
        }
      ]
    },
    {
      "cell_type": "code",
      "metadata": {
        "colab": {
          "base_uri": "https://localhost:8080/"
        },
        "id": "p7ltDHDtcnOB",
        "outputId": "d681320b-9392-4f47-f144-8784658aa21b"
      },
      "source": [
        "a = (5.2, {1:'apple', 'k':4.9}, (9.1, [10, 12.1]))\n",
        "print(int(a[2][-1][0]))"
      ],
      "execution_count": 14,
      "outputs": [
        {
          "output_type": "stream",
          "text": [
            "10\n"
          ],
          "name": "stdout"
        }
      ]
    }
  ]
}