{
  "nbformat": 4,
  "nbformat_minor": 0,
  "metadata": {
    "colab": {
      "name": "sound.ipynb",
      "provenance": [],
      "authorship_tag": "ABX9TyPm9cUsXsRIBFmWBobygfL/",
      "include_colab_link": true
    },
    "kernelspec": {
      "name": "python3",
      "display_name": "Python 3"
    },
    "language_info": {
      "name": "python"
    }
  },
  "cells": [
    {
      "cell_type": "markdown",
      "metadata": {
        "id": "view-in-github",
        "colab_type": "text"
      },
      "source": [
        "<a href=\"https://colab.research.google.com/github/shimshimee/class2021Spring/blob/main/sound.ipynb\" target=\"_parent\"><img src=\"https://colab.research.google.com/assets/colab-badge.svg\" alt=\"Open In Colab\"/></a>"
      ]
    },
    {
      "cell_type": "code",
      "metadata": {
        "id": "G7a_J55B3YYN"
      },
      "source": [
        "# source: pure tone(sin wave)의 합\n",
        "# phasor: pure tone을 만듦\n",
        "# pulse train: source를 만듦"
      ],
      "execution_count": 1,
      "outputs": []
    },
    {
      "cell_type": "code",
      "metadata": {
        "id": "qn67omKu_W38"
      },
      "source": [
        "%matplotlib inline\n",
        "from matplotlib import pyplot as plt\n",
        "import IPython.display as ipd\n",
        "import numpy as np\n",
        "from scipy.signal import lfilter"
      ],
      "execution_count": 45,
      "outputs": []
    },
    {
      "cell_type": "code",
      "metadata": {
        "colab": {
          "base_uri": "https://localhost:8080/"
        },
        "id": "X0uWKhcT_vaK",
        "outputId": "cf59a404-7a94-495a-a2e2-c7e0003b39d6"
      },
      "source": [
        "theta = np.pi/2       # 파이는 180도, 1/2는 90도\n",
        "np.sin(theta)"
      ],
      "execution_count": 3,
      "outputs": [
        {
          "output_type": "execute_result",
          "data": {
            "text/plain": [
              "1.0"
            ]
          },
          "metadata": {
            "tags": []
          },
          "execution_count": 3
        }
      ]
    },
    {
      "cell_type": "code",
      "metadata": {
        "colab": {
          "base_uri": "https://localhost:8080/"
        },
        "id": "0gkwdlSmAzRq",
        "outputId": "f435486a-eb56-4d19-f76d-c705e0885a23"
      },
      "source": [
        "theta = np.pi*0       # 복소수 i는 1j로 표현\n",
        "                      # 0 90 180 270 360\n",
        "np.exp(theta*1j)      # (1,0) (0,1) (-1,0) (0,-1)"
      ],
      "execution_count": 5,
      "outputs": [
        {
          "output_type": "execute_result",
          "data": {
            "text/plain": [
              "(1+0j)"
            ]
          },
          "metadata": {
            "tags": []
          },
          "execution_count": 5
        }
      ]
    },
    {
      "cell_type": "code",
      "metadata": {
        "colab": {
          "base_uri": "https://localhost:8080/",
          "height": 542
        },
        "id": "91td6smRFQfB",
        "outputId": "7801dae1-cd33-43f0-ddbc-a44eec302c12"
      },
      "source": [
        "import plotly.graph_objects as go\n",
        "import numpy as np\n",
        "\n",
        "amp = 1\n",
        "sr = 10000\n",
        "dur = 0.5\n",
        "freq = 100.0\n",
        "\n",
        "t = np.arange(1, sr * dur+1)/sr\n",
        "theta = t * 2*np.pi * freq\n",
        "c = np.exp(theta*1j)\n",
        "\n",
        "x, y, z = t[0:300], c.real[0:300], c.imag[0:300]\n",
        "fig = go.Figure(data=[go.Scatter3d(x=x, y=y, z=z,\n",
        "                                   mode='markers',\n",
        "                                   marker=dict(size=3))])\n",
        "fig.show()"
      ],
      "execution_count": 24,
      "outputs": [
        {
          "output_type": "display_data",
          "data": {
            "text/html": [
              "<html>\n",
              "<head><meta charset=\"utf-8\" /></head>\n",
              "<body>\n",
              "    <div>\n",
              "            <script src=\"https://cdnjs.cloudflare.com/ajax/libs/mathjax/2.7.5/MathJax.js?config=TeX-AMS-MML_SVG\"></script><script type=\"text/javascript\">if (window.MathJax) {MathJax.Hub.Config({SVG: {font: \"STIX-Web\"}});}</script>\n",
              "                <script type=\"text/javascript\">window.PlotlyConfig = {MathJaxConfig: 'local'};</script>\n",
              "        <script src=\"https://cdn.plot.ly/plotly-latest.min.js\"></script>    \n",
              "            <div id=\"9a7263d5-9fe6-409c-b232-452d220242bf\" class=\"plotly-graph-div\" style=\"height:525px; width:100%;\"></div>\n",
              "            <script type=\"text/javascript\">\n",
              "                \n",
              "                    window.PLOTLYENV=window.PLOTLYENV || {};\n",
              "                    \n",
              "                if (document.getElementById(\"9a7263d5-9fe6-409c-b232-452d220242bf\")) {\n",
              "                    Plotly.newPlot(\n",
              "                        '9a7263d5-9fe6-409c-b232-452d220242bf',\n",
              "                        [{\"marker\": {\"size\": 3}, \"mode\": \"markers\", \"type\": \"scatter3d\", \"x\": [0.0001, 0.0002, 0.0003, 0.0004, 0.0005, 0.0006, 0.0007, 0.0008, 0.0009, 0.001, 0.0011, 0.0012, 0.0013, 0.0014, 0.0015, 0.0016, 0.0017, 0.0018, 0.0019, 0.002, 0.0021, 0.0022, 0.0023, 0.0024, 0.0025, 0.0026, 0.0027, 0.0028, 0.0029, 0.003, 0.0031, 0.0032, 0.0033, 0.0034, 0.0035, 0.0036, 0.0037, 0.0038, 0.0039, 0.004, 0.0041, 0.0042, 0.0043, 0.0044, 0.0045, 0.0046, 0.0047, 0.0048, 0.0049, 0.005, 0.0051, 0.0052, 0.0053, 0.0054, 0.0055, 0.0056, 0.0057, 0.0058, 0.0059, 0.006, 0.0061, 0.0062, 0.0063, 0.0064, 0.0065, 0.0066, 0.0067, 0.0068, 0.0069, 0.007, 0.0071, 0.0072, 0.0073, 0.0074, 0.0075, 0.0076, 0.0077, 0.0078, 0.0079, 0.008, 0.0081, 0.0082, 0.0083, 0.0084, 0.0085, 0.0086, 0.0087, 0.0088, 0.0089, 0.009, 0.0091, 0.0092, 0.0093, 0.0094, 0.0095, 0.0096, 0.0097, 0.0098, 0.0099, 0.01, 0.0101, 0.0102, 0.0103, 0.0104, 0.0105, 0.0106, 0.0107, 0.0108, 0.0109, 0.011, 0.0111, 0.0112, 0.0113, 0.0114, 0.0115, 0.0116, 0.0117, 0.0118, 0.0119, 0.012, 0.0121, 0.0122, 0.0123, 0.0124, 0.0125, 0.0126, 0.0127, 0.0128, 0.0129, 0.013, 0.0131, 0.0132, 0.0133, 0.0134, 0.0135, 0.0136, 0.0137, 0.0138, 0.0139, 0.014, 0.0141, 0.0142, 0.0143, 0.0144, 0.0145, 0.0146, 0.0147, 0.0148, 0.0149, 0.015, 0.0151, 0.0152, 0.0153, 0.0154, 0.0155, 0.0156, 0.0157, 0.0158, 0.0159, 0.016, 0.0161, 0.0162, 0.0163, 0.0164, 0.0165, 0.0166, 0.0167, 0.0168, 0.0169, 0.017, 0.0171, 0.0172, 0.0173, 0.0174, 0.0175, 0.0176, 0.0177, 0.0178, 0.0179, 0.018, 0.0181, 0.0182, 0.0183, 0.0184, 0.0185, 0.0186, 0.0187, 0.0188, 0.0189, 0.019, 0.0191, 0.0192, 0.0193, 0.0194, 0.0195, 0.0196, 0.0197, 0.0198, 0.0199, 0.02, 0.0201, 0.0202, 0.0203, 0.0204, 0.0205, 0.0206, 0.0207, 0.0208, 0.0209, 0.021, 0.0211, 0.0212, 0.0213, 0.0214, 0.0215, 0.0216, 0.0217, 0.0218, 0.0219, 0.022, 0.0221, 0.0222, 0.0223, 0.0224, 0.0225, 0.0226, 0.0227, 0.0228, 0.0229, 0.023, 0.0231, 0.0232, 0.0233, 0.0234, 0.0235, 0.0236, 0.0237, 0.0238, 0.0239, 0.024, 0.0241, 0.0242, 0.0243, 0.0244, 0.0245, 0.0246, 0.0247, 0.0248, 0.0249, 0.025, 0.0251, 0.0252, 0.0253, 0.0254, 0.0255, 0.0256, 0.0257, 0.0258, 0.0259, 0.026, 0.0261, 0.0262, 0.0263, 0.0264, 0.0265, 0.0266, 0.0267, 0.0268, 0.0269, 0.027, 0.0271, 0.0272, 0.0273, 0.0274, 0.0275, 0.0276, 0.0277, 0.0278, 0.0279, 0.028, 0.0281, 0.0282, 0.0283, 0.0284, 0.0285, 0.0286, 0.0287, 0.0288, 0.0289, 0.029, 0.0291, 0.0292, 0.0293, 0.0294, 0.0295, 0.0296, 0.0297, 0.0298, 0.0299, 0.03], \"y\": [0.9980267284282716, 0.9921147013144779, 0.9822872507286887, 0.9685831611286311, 0.9510565162951535, 0.9297764858882515, 0.9048270524660196, 0.8763066800438636, 0.8443279255020151, 0.8090169943749475, 0.7705132427757893, 0.7289686274214116, 0.6845471059286887, 0.6374239897486897, 0.5877852522924731, 0.5358267949789965, 0.4817536741017153, 0.42577929156507266, 0.3681245526846781, 0.30901699437494745, 0.24868988716485496, 0.18738131458572474, 0.12533323356430426, 0.06279051952931353, -1.6081226496766366e-16, -0.06279051952931318, -0.12533323356430437, -0.1873813145857246, -0.2486898871648544, -0.30901699437494734, -0.368124552684678, -0.4257792915650727, -0.48175367410171505, -0.5358267949789964, -0.587785252292473, -0.6374239897486897, -0.6845471059286887, -0.7289686274214113, -0.7705132427757891, -0.8090169943749473, -0.8443279255020151, -0.8763066800438634, -0.9048270524660196, -0.9297764858882513, -0.9510565162951534, -0.9685831611286311, -0.9822872507286887, -0.9921147013144778, -0.9980267284282716, -1.0, -0.9980267284282716, -0.9921147013144779, -0.9822872507286886, -0.9685831611286311, -0.9510565162951538, -0.9297764858882515, -0.9048270524660195, -0.8763066800438639, -0.8443279255020152, -0.8090169943749476, -0.7705132427757893, -0.7289686274214116, -0.684547105928689, -0.6374239897486895, -0.5877852522924732, -0.5358267949789971, -0.48175367410171527, -0.42577929156507294, -0.3681245526846786, -0.30901699437494756, -0.24868988716485443, -0.18738131458572463, -0.1253332335643046, -0.06279051952931321, -1.8369701987210297e-16, 0.06279051952931283, 0.12533323356430423, 0.18738131458572427, 0.24868988716485493, 0.30901699437494723, 0.3681245526846774, 0.4257792915650726, 0.48175367410171493, 0.535826794978996, 0.5877852522924729, 0.63742398974869, 0.684547105928688, 0.7289686274214112, 0.7705132427757894, 0.8090169943749468, 0.8443279255020147, 0.8763066800438636, 0.904827052466019, 0.9297764858882515, 0.9510565162951535, 0.968583161128631, 0.9822872507286887, 0.9921147013144778, 0.9980267284282716, 1.0, 0.9980267284282717, 0.9921147013144779, 0.9822872507286886, 0.9685831611286313, 0.9510565162951536, 0.9297764858882513, 0.9048270524660199, 0.8763066800438634, 0.8443279255020151, 0.8090169943749481, 0.770513242775789, 0.7289686274214116, 0.6845471059286896, 0.6374239897486896, 0.5877852522924734, 0.5358267949789979, 0.4817536741017154, 0.42577929156507305, 0.3681245526846779, 0.30901699437494773, 0.24868988716485543, 0.18738131458572474, 0.12533323356430473, 0.06279051952931332, 3.061616997868383e-16, -0.06279051952931271, -0.12533323356430412, -0.18738131458572502, -0.24868988716485482, -0.3090169943749471, -0.3681245526846773, -0.4257792915650717, -0.48175367410171405, -0.5358267949789967, -0.5877852522924729, -0.6374239897486892, -0.684547105928688, -0.7289686274214106, -0.7705132427757893, -0.8090169943749472, -0.8443279255020147, -0.8763066800438639, -0.9048270524660189, -0.9297764858882515, -0.951056516295154, -0.968583161128631, -0.9822872507286885, -0.9921147013144779, -0.9980267284282716, -1.0, -0.9980267284282714, -0.992114701314478, -0.9822872507286889, -0.9685831611286311, -0.9510565162951536, -0.9297764858882517, -0.90482705246602, -0.8763066800438635, -0.8443279255020151, -0.8090169943749477, -0.7705132427757897, -0.7289686274214123, -0.6845471059286897, -0.6374239897486897, -0.5877852522924735, -0.5358267949789972, -0.48175367410171627, -0.425779291565074, -0.36812455268467964, -0.30901699437494784, -0.24868988716485554, -0.187381314585724, -0.12533323356430573, -0.06279051952931522, 1.3477304596986769e-15, 0.0627905195293126, 0.12533323356430487, 0.1873813145857249, 0.2486898871648547, 0.30901699437494534, 0.36812455268467886, 0.4257792915650716, 0.4817536741017155, 0.5358267949789965, 0.5877852522924728, 0.6374239897486877, 0.6845471059286892, 0.7289686274214117, 0.7705132427757891, 0.8090169943749471, 0.8443279255020146, 0.876306680043863, 0.9048270524660196, 0.9297764858882513, 0.9510565162951534, 0.968583161128631, 0.9822872507286885, 0.9921147013144779, 0.9980267284282716, 1.0, 0.9980267284282716, 0.9921147013144782, 0.9822872507286889, 0.9685831611286312, 0.9510565162951532, 0.929776485888251, 0.9048270524660192, 0.8763066800438644, 0.8443279255020161, 0.8090169943749477, 0.7705132427757887, 0.7289686274214111, 0.6845471059286885, 0.6374239897486912, 0.587785252292475, 0.5358267949789959, 0.4817536741017148, 0.4257792915650725, 0.36812455268467814, 0.3090169943749496, 0.24868988716485393, 0.18738131458572413, 0.1253332335643041, 0.06279051952931357, 5.51091059616309e-16, -0.0627905195293107, -0.12533323356430476, -0.18738131458572477, -0.2486898871648546, -0.3090169943749469, -0.3681245526846771, -0.4257792915650699, -0.4817536741017154, -0.5358267949789964, -0.5877852522924727, -0.637423989748689, -0.6845471059286891, -0.7289686274214117, -0.770513242775789, -0.8090169943749471, -0.8443279255020145, -0.8763066800438629, -0.9048270524660196, -0.9297764858882513, -0.9510565162951534, -0.9685831611286309, -0.9822872507286884, -0.9921147013144779, -0.9980267284282716, -1.0, -0.9980267284282717, -0.992114701314478, -0.9822872507286886, -0.9685831611286312, -0.9510565162951543, -0.9297764858882511, -0.9048270524660194, -0.8763066800438636, -0.8443279255020152, -0.8090169943749478, -0.7705132427757899, -0.7289686274214124, -0.68454710592869, -0.6374239897486913, -0.5877852522924751, -0.535826794978999, -0.48175367410171493, -0.4257792915650726, -0.36812455268467825, -0.30901699437494806, -0.24868988716485577, -0.187381314585726, -0.12533323356430598, -0.06279051952931547, -2.4499125789312946e-15, 0.06279051952931057, 0.12533323356430462, 0.18738131458572466, 0.2486898871648579, 0.3090169943749468, 0.368124552684677, 0.4257792915650714, 0.4817536741017137, 0.5358267949789979, 0.587785252292474, 0.6374239897486875, 0.6845471059286864, 0.7289686274214116, 0.770513242775789, 0.8090169943749491, 0.8443279255020164, 0.8763066800438629, 0.9048270524660188, 0.9297764858882506, 0.9510565162951528, 0.9685831611286313, 0.9822872507286887, 0.9921147013144779, 0.9980267284282716, 1.0], \"z\": [0.06279051952931337, 0.12533323356430426, 0.1873813145857246, 0.2486898871648548, 0.3090169943749474, 0.3681245526846779, 0.42577929156507266, 0.4817536741017153, 0.5358267949789967, 0.5877852522924731, 0.6374239897486896, 0.6845471059286886, 0.7289686274214114, 0.7705132427757893, 0.8090169943749475, 0.8443279255020151, 0.8763066800438636, 0.9048270524660196, 0.9297764858882513, 0.9510565162951535, 0.9685831611286311, 0.9822872507286886, 0.9921147013144779, 0.9980267284282716, 1.0, 0.9980267284282716, 0.9921147013144778, 0.9822872507286887, 0.9685831611286312, 0.9510565162951536, 0.9297764858882513, 0.9048270524660195, 0.8763066800438637, 0.8443279255020152, 0.8090169943749475, 0.7705132427757893, 0.7289686274214114, 0.6845471059286888, 0.6374239897486899, 0.5877852522924732, 0.5358267949789967, 0.4817536741017156, 0.4257792915650725, 0.36812455268467814, 0.30901699437494795, 0.24868988716485482, 0.18738131458572457, 0.12533323356430454, 0.06279051952931358, -3.216245299353273e-16, -0.06279051952931335, -0.12533323356430384, -0.18738131458572477, -0.24868988716485502, -0.3090169943749469, -0.3681245526846779, -0.42577929156507266, -0.4817536741017146, -0.5358267949789964, -0.587785252292473, -0.6374239897486896, -0.6845471059286887, -0.7289686274214113, -0.7705132427757894, -0.8090169943749473, -0.8443279255020149, -0.8763066800438636, -0.9048270524660194, -0.9297764858882511, -0.9510565162951535, -0.9685831611286312, -0.9822872507286887, -0.9921147013144778, -0.9980267284282716, -1.0, -0.9980267284282716, -0.9921147013144779, -0.9822872507286887, -0.9685831611286311, -0.9510565162951536, -0.9297764858882516, -0.9048270524660196, -0.8763066800438638, -0.8443279255020155, -0.8090169943749476, -0.770513242775789, -0.7289686274214121, -0.684547105928689, -0.6374239897486896, -0.587785252292474, -0.5358267949789971, -0.4817536741017153, -0.4257792915650738, -0.36812455268467786, -0.3090169943749476, -0.24868988716485535, -0.18738131458572468, -0.12533323356430465, -0.06279051952931326, 6.432490598706546e-16, 0.06279051952931189, 0.12533323356430418, 0.18738131458572507, 0.24868988716485402, 0.3090169943749472, 0.3681245526846782, 0.42577929156507177, 0.48175367410171566, 0.5358267949789967, 0.5877852522924721, 0.6374239897486899, 0.6845471059286886, 0.7289686274214106, 0.7705132427757893, 0.8090169943749472, 0.8443279255020143, 0.8763066800438636, 0.9048270524660194, 0.9297764858882515, 0.9510565162951535, 0.968583161128631, 0.9822872507286886, 0.9921147013144778, 0.9980267284282716, 1.0, 0.9980267284282716, 0.9921147013144779, 0.9822872507286886, 0.9685831611286311, 0.9510565162951536, 0.9297764858882517, 0.90482705246602, 0.8763066800438643, 0.8443279255020151, 0.8090169943749477, 0.7705132427757897, 0.7289686274214122, 0.6845471059286897, 0.6374239897486897, 0.5877852522924734, 0.5358267949789972, 0.48175367410171466, 0.42577929156507394, 0.368124552684678, 0.30901699437494606, 0.2486898871648555, 0.18738131458572568, 0.1253332335643039, 0.06279051952931339, 3.6739403974420594e-16, -0.06279051952931443, -0.12533323356430318, -0.1873813145857232, -0.24868988716485477, -0.30901699437494706, -0.36812455268467725, -0.42577929156507166, -0.48175367410171555, -0.5358267949789965, -0.5877852522924728, -0.6374239897486891, -0.6845471059286878, -0.7289686274214106, -0.7705132427757893, -0.8090169943749472, -0.8443279255020146, -0.876306680043863, -0.9048270524660189, -0.9297764858882507, -0.9510565162951534, -0.968583161128631, -0.9822872507286888, -0.9921147013144777, -0.9980267284282714, -1.0, -0.9980267284282716, -0.9921147013144778, -0.9822872507286886, -0.9685831611286312, -0.9510565162951543, -0.929776485888251, -0.90482705246602, -0.8763066800438635, -0.8443279255020151, -0.8090169943749477, -0.7705132427757909, -0.7289686274214111, -0.6845471059286885, -0.6374239897486897, -0.5877852522924735, -0.5358267949789973, -0.4817536741017163, -0.42577929156507244, -0.3681245526846781, -0.3090169943749479, -0.2486898871648556, -0.1873813145857258, -0.125333233564304, -0.06279051952931351, 1.2864981197413093e-15, 0.0627905195293143, 0.1253332335643013, 0.1873813145857231, 0.24868988716485466, 0.3090169943749486, 0.3681245526846788, 0.42577929156507316, 0.4817536741017139, 0.535826794978995, 0.5877852522924727, 0.6374239897486904, 0.6845471059286891, 0.7289686274214117, 0.770513242775788, 0.8090169943749461, 0.8443279255020155, 0.8763066800438638, 0.9048270524660196, 0.9297764858882513, 0.9510565162951529, 0.9685831611286313, 0.9822872507286888, 0.9921147013144779, 0.9980267284282716, 1.0, 0.9980267284282718, 0.9921147013144778, 0.9822872507286886, 0.9685831611286312, 0.9510565162951538, 0.9297764858882518, 0.9048270524660208, 0.8763066800438635, 0.8443279255020152, 0.8090169943749478, 0.7705132427757898, 0.7289686274214112, 0.6845471059286886, 0.6374239897486899, 0.5877852522924736, 0.5358267949789974, 0.48175367410171643, 0.42577929156507255, 0.3681245526846782, 0.309016994374948, 0.2486898871648557, 0.18738131458572593, 0.12533323356430415, 0.06279051952931362, 6.123233995736766e-16, -0.0627905195293124, -0.12533323356430293, -0.1873813145857247, -0.24868988716485452, -0.3090169943749451, -0.3681245526846787, -0.42577929156507305, -0.4817536741017153, -0.5358267949789964, -0.5877852522924726, -0.637423989748689, -0.6845471059286877, -0.7289686274214103, -0.7705132427757879, -0.809016994374946, -0.8443279255020136, -0.8763066800438638, -0.9048270524660196, -0.9297764858882513, -0.9510565162951534, -0.9685831611286309, -0.9822872507286884, -0.9921147013144777, -0.9980267284282714, -1.0, -0.9980267284282718, -0.9921147013144778, -0.9822872507286887, -0.9685831611286303, -0.9510565162951538, -0.9297764858882518, -0.9048270524660201, -0.8763066800438645, -0.8443279255020143, -0.8090169943749468, -0.770513242775791, -0.7289686274214137, -0.6845471059286886, -0.63742398974869, -0.5877852522924708, -0.5358267949789945, -0.48175367410171654, -0.42577929156507427, -0.36812455268468, -0.3090169943749498, -0.2486898871648541, -0.1873813145857243, -0.12533323356430426, -0.06279051952931375, -7.347880794884119e-16]}],\n",
              "                        {\"template\": {\"data\": {\"bar\": [{\"error_x\": {\"color\": \"#2a3f5f\"}, \"error_y\": {\"color\": \"#2a3f5f\"}, \"marker\": {\"line\": {\"color\": \"#E5ECF6\", \"width\": 0.5}}, \"type\": \"bar\"}], \"barpolar\": [{\"marker\": {\"line\": {\"color\": \"#E5ECF6\", \"width\": 0.5}}, \"type\": \"barpolar\"}], \"carpet\": [{\"aaxis\": {\"endlinecolor\": \"#2a3f5f\", \"gridcolor\": \"white\", \"linecolor\": \"white\", \"minorgridcolor\": \"white\", \"startlinecolor\": \"#2a3f5f\"}, \"baxis\": {\"endlinecolor\": \"#2a3f5f\", \"gridcolor\": \"white\", \"linecolor\": \"white\", \"minorgridcolor\": \"white\", \"startlinecolor\": \"#2a3f5f\"}, \"type\": \"carpet\"}], \"choropleth\": [{\"colorbar\": {\"outlinewidth\": 0, \"ticks\": \"\"}, \"type\": \"choropleth\"}], \"contour\": [{\"colorbar\": {\"outlinewidth\": 0, \"ticks\": \"\"}, \"colorscale\": [[0.0, \"#0d0887\"], [0.1111111111111111, \"#46039f\"], [0.2222222222222222, \"#7201a8\"], [0.3333333333333333, \"#9c179e\"], [0.4444444444444444, \"#bd3786\"], [0.5555555555555556, \"#d8576b\"], [0.6666666666666666, \"#ed7953\"], [0.7777777777777778, \"#fb9f3a\"], [0.8888888888888888, \"#fdca26\"], [1.0, \"#f0f921\"]], \"type\": \"contour\"}], \"contourcarpet\": [{\"colorbar\": {\"outlinewidth\": 0, \"ticks\": \"\"}, \"type\": \"contourcarpet\"}], \"heatmap\": [{\"colorbar\": {\"outlinewidth\": 0, \"ticks\": \"\"}, \"colorscale\": [[0.0, \"#0d0887\"], [0.1111111111111111, \"#46039f\"], [0.2222222222222222, \"#7201a8\"], [0.3333333333333333, \"#9c179e\"], [0.4444444444444444, \"#bd3786\"], [0.5555555555555556, \"#d8576b\"], [0.6666666666666666, \"#ed7953\"], [0.7777777777777778, \"#fb9f3a\"], [0.8888888888888888, \"#fdca26\"], [1.0, \"#f0f921\"]], \"type\": \"heatmap\"}], \"heatmapgl\": [{\"colorbar\": {\"outlinewidth\": 0, \"ticks\": \"\"}, \"colorscale\": [[0.0, \"#0d0887\"], [0.1111111111111111, \"#46039f\"], [0.2222222222222222, \"#7201a8\"], [0.3333333333333333, \"#9c179e\"], [0.4444444444444444, \"#bd3786\"], [0.5555555555555556, \"#d8576b\"], [0.6666666666666666, \"#ed7953\"], [0.7777777777777778, \"#fb9f3a\"], [0.8888888888888888, \"#fdca26\"], [1.0, \"#f0f921\"]], \"type\": \"heatmapgl\"}], \"histogram\": [{\"marker\": {\"colorbar\": {\"outlinewidth\": 0, \"ticks\": \"\"}}, \"type\": \"histogram\"}], \"histogram2d\": [{\"colorbar\": {\"outlinewidth\": 0, \"ticks\": \"\"}, \"colorscale\": [[0.0, \"#0d0887\"], [0.1111111111111111, \"#46039f\"], [0.2222222222222222, \"#7201a8\"], [0.3333333333333333, \"#9c179e\"], [0.4444444444444444, \"#bd3786\"], [0.5555555555555556, \"#d8576b\"], [0.6666666666666666, \"#ed7953\"], [0.7777777777777778, \"#fb9f3a\"], [0.8888888888888888, \"#fdca26\"], [1.0, \"#f0f921\"]], \"type\": \"histogram2d\"}], \"histogram2dcontour\": [{\"colorbar\": {\"outlinewidth\": 0, \"ticks\": \"\"}, \"colorscale\": [[0.0, \"#0d0887\"], [0.1111111111111111, \"#46039f\"], [0.2222222222222222, \"#7201a8\"], [0.3333333333333333, \"#9c179e\"], [0.4444444444444444, \"#bd3786\"], [0.5555555555555556, \"#d8576b\"], [0.6666666666666666, \"#ed7953\"], [0.7777777777777778, \"#fb9f3a\"], [0.8888888888888888, \"#fdca26\"], [1.0, \"#f0f921\"]], \"type\": \"histogram2dcontour\"}], \"mesh3d\": [{\"colorbar\": {\"outlinewidth\": 0, \"ticks\": \"\"}, \"type\": \"mesh3d\"}], \"parcoords\": [{\"line\": {\"colorbar\": {\"outlinewidth\": 0, \"ticks\": \"\"}}, \"type\": \"parcoords\"}], \"pie\": [{\"automargin\": true, \"type\": \"pie\"}], \"scatter\": [{\"marker\": {\"colorbar\": {\"outlinewidth\": 0, \"ticks\": \"\"}}, \"type\": \"scatter\"}], \"scatter3d\": [{\"line\": {\"colorbar\": {\"outlinewidth\": 0, \"ticks\": \"\"}}, \"marker\": {\"colorbar\": {\"outlinewidth\": 0, \"ticks\": \"\"}}, \"type\": \"scatter3d\"}], \"scattercarpet\": [{\"marker\": {\"colorbar\": {\"outlinewidth\": 0, \"ticks\": \"\"}}, \"type\": \"scattercarpet\"}], \"scattergeo\": [{\"marker\": {\"colorbar\": {\"outlinewidth\": 0, \"ticks\": \"\"}}, \"type\": \"scattergeo\"}], \"scattergl\": [{\"marker\": {\"colorbar\": {\"outlinewidth\": 0, \"ticks\": \"\"}}, \"type\": \"scattergl\"}], \"scattermapbox\": [{\"marker\": {\"colorbar\": {\"outlinewidth\": 0, \"ticks\": \"\"}}, \"type\": \"scattermapbox\"}], \"scatterpolar\": [{\"marker\": {\"colorbar\": {\"outlinewidth\": 0, \"ticks\": \"\"}}, \"type\": \"scatterpolar\"}], \"scatterpolargl\": [{\"marker\": {\"colorbar\": {\"outlinewidth\": 0, \"ticks\": \"\"}}, \"type\": \"scatterpolargl\"}], \"scatterternary\": [{\"marker\": {\"colorbar\": {\"outlinewidth\": 0, \"ticks\": \"\"}}, \"type\": \"scatterternary\"}], \"surface\": [{\"colorbar\": {\"outlinewidth\": 0, \"ticks\": \"\"}, \"colorscale\": [[0.0, \"#0d0887\"], [0.1111111111111111, \"#46039f\"], [0.2222222222222222, \"#7201a8\"], [0.3333333333333333, \"#9c179e\"], [0.4444444444444444, \"#bd3786\"], [0.5555555555555556, \"#d8576b\"], [0.6666666666666666, \"#ed7953\"], [0.7777777777777778, \"#fb9f3a\"], [0.8888888888888888, \"#fdca26\"], [1.0, \"#f0f921\"]], \"type\": \"surface\"}], \"table\": [{\"cells\": {\"fill\": {\"color\": \"#EBF0F8\"}, \"line\": {\"color\": \"white\"}}, \"header\": {\"fill\": {\"color\": \"#C8D4E3\"}, \"line\": {\"color\": \"white\"}}, \"type\": \"table\"}]}, \"layout\": {\"annotationdefaults\": {\"arrowcolor\": \"#2a3f5f\", \"arrowhead\": 0, \"arrowwidth\": 1}, \"coloraxis\": {\"colorbar\": {\"outlinewidth\": 0, \"ticks\": \"\"}}, \"colorscale\": {\"diverging\": [[0, \"#8e0152\"], [0.1, \"#c51b7d\"], [0.2, \"#de77ae\"], [0.3, \"#f1b6da\"], [0.4, \"#fde0ef\"], [0.5, \"#f7f7f7\"], [0.6, \"#e6f5d0\"], [0.7, \"#b8e186\"], [0.8, \"#7fbc41\"], [0.9, \"#4d9221\"], [1, \"#276419\"]], \"sequential\": [[0.0, \"#0d0887\"], [0.1111111111111111, \"#46039f\"], [0.2222222222222222, \"#7201a8\"], [0.3333333333333333, \"#9c179e\"], [0.4444444444444444, \"#bd3786\"], [0.5555555555555556, \"#d8576b\"], [0.6666666666666666, \"#ed7953\"], [0.7777777777777778, \"#fb9f3a\"], [0.8888888888888888, \"#fdca26\"], [1.0, \"#f0f921\"]], \"sequentialminus\": [[0.0, \"#0d0887\"], [0.1111111111111111, \"#46039f\"], [0.2222222222222222, \"#7201a8\"], [0.3333333333333333, \"#9c179e\"], [0.4444444444444444, \"#bd3786\"], [0.5555555555555556, \"#d8576b\"], [0.6666666666666666, \"#ed7953\"], [0.7777777777777778, \"#fb9f3a\"], [0.8888888888888888, \"#fdca26\"], [1.0, \"#f0f921\"]]}, \"colorway\": [\"#636efa\", \"#EF553B\", \"#00cc96\", \"#ab63fa\", \"#FFA15A\", \"#19d3f3\", \"#FF6692\", \"#B6E880\", \"#FF97FF\", \"#FECB52\"], \"font\": {\"color\": \"#2a3f5f\"}, \"geo\": {\"bgcolor\": \"white\", \"lakecolor\": \"white\", \"landcolor\": \"#E5ECF6\", \"showlakes\": true, \"showland\": true, \"subunitcolor\": \"white\"}, \"hoverlabel\": {\"align\": \"left\"}, \"hovermode\": \"closest\", \"mapbox\": {\"style\": \"light\"}, \"paper_bgcolor\": \"white\", \"plot_bgcolor\": \"#E5ECF6\", \"polar\": {\"angularaxis\": {\"gridcolor\": \"white\", \"linecolor\": \"white\", \"ticks\": \"\"}, \"bgcolor\": \"#E5ECF6\", \"radialaxis\": {\"gridcolor\": \"white\", \"linecolor\": \"white\", \"ticks\": \"\"}}, \"scene\": {\"xaxis\": {\"backgroundcolor\": \"#E5ECF6\", \"gridcolor\": \"white\", \"gridwidth\": 2, \"linecolor\": \"white\", \"showbackground\": true, \"ticks\": \"\", \"zerolinecolor\": \"white\"}, \"yaxis\": {\"backgroundcolor\": \"#E5ECF6\", \"gridcolor\": \"white\", \"gridwidth\": 2, \"linecolor\": \"white\", \"showbackground\": true, \"ticks\": \"\", \"zerolinecolor\": \"white\"}, \"zaxis\": {\"backgroundcolor\": \"#E5ECF6\", \"gridcolor\": \"white\", \"gridwidth\": 2, \"linecolor\": \"white\", \"showbackground\": true, \"ticks\": \"\", \"zerolinecolor\": \"white\"}}, \"shapedefaults\": {\"line\": {\"color\": \"#2a3f5f\"}}, \"ternary\": {\"aaxis\": {\"gridcolor\": \"white\", \"linecolor\": \"white\", \"ticks\": \"\"}, \"baxis\": {\"gridcolor\": \"white\", \"linecolor\": \"white\", \"ticks\": \"\"}, \"bgcolor\": \"#E5ECF6\", \"caxis\": {\"gridcolor\": \"white\", \"linecolor\": \"white\", \"ticks\": \"\"}}, \"title\": {\"x\": 0.05}, \"xaxis\": {\"automargin\": true, \"gridcolor\": \"white\", \"linecolor\": \"white\", \"ticks\": \"\", \"title\": {\"standoff\": 15}, \"zerolinecolor\": \"white\", \"zerolinewidth\": 2}, \"yaxis\": {\"automargin\": true, \"gridcolor\": \"white\", \"linecolor\": \"white\", \"ticks\": \"\", \"title\": {\"standoff\": 15}, \"zerolinecolor\": \"white\", \"zerolinewidth\": 2}}}},\n",
              "                        {\"responsive\": true}\n",
              "                    ).then(function(){\n",
              "                            \n",
              "var gd = document.getElementById('9a7263d5-9fe6-409c-b232-452d220242bf');\n",
              "var x = new MutationObserver(function (mutations, observer) {{\n",
              "        var display = window.getComputedStyle(gd).display;\n",
              "        if (!display || display === 'none') {{\n",
              "            console.log([gd, 'removed!']);\n",
              "            Plotly.purge(gd);\n",
              "            observer.disconnect();\n",
              "        }}\n",
              "}});\n",
              "\n",
              "// Listen for the removal of the full notebook cells\n",
              "var notebookContainer = gd.closest('#notebook-container');\n",
              "if (notebookContainer) {{\n",
              "    x.observe(notebookContainer, {childList: true});\n",
              "}}\n",
              "\n",
              "// Listen for the clearing of the current output cell\n",
              "var outputEl = gd.closest('.output');\n",
              "if (outputEl) {{\n",
              "    x.observe(outputEl, {childList: true});\n",
              "}}\n",
              "\n",
              "                        })\n",
              "                };\n",
              "                \n",
              "            </script>\n",
              "        </div>\n",
              "</body>\n",
              "</html>"
            ]
          },
          "metadata": {
            "tags": []
          }
        }
      ]
    },
    {
      "cell_type": "markdown",
      "metadata": {
        "id": "NjTEJn6GwDQY"
      },
      "source": [
        "# **Generate pulse train (=harmonics, source)**"
      ]
    },
    {
      "cell_type": "code",
      "metadata": {
        "id": "ig5u02gzv_uS"
      },
      "source": [
        "def phasor_sine(amp, sr, dur, freq):\n",
        "\n",
        "  t = np.arange(1, sr * dur+1)/sr\n",
        "  theta = t * 2*np.pi * freq   \n",
        "  s = amp * np.sin(theta)\n",
        "\n",
        "  return s, t, theta\n",
        "\n",
        "amp = 1\n",
        "sr = 10000                          # Sampling rate\n",
        "dur = 0.5\n",
        "\n",
        "F0 = 100                            # Fundamental frequency의 배음으로 올라감\n",
        "Fend = int(sr/2)                    # Sampling rate의 1/2, 표현 가능한 최대 주파수\n",
        "# Nyquist frequency: 적어도 마루와 골에 Sample이 있어야 표현할 수 있으므로 Sr의 1/2\n",
        "\n",
        "s_all = 0\n",
        "for freq in range(F0, Fend+1, F0):  # 0부터 5000까지 100만큼 증가\n",
        "  s, t, theta = phasor_sine(amp, sr, dur, freq)\n",
        "  s_all += s                        # s_all이라는 변수에 s를 계속 더하라"
      ],
      "execution_count": 39,
      "outputs": []
    },
    {
      "cell_type": "markdown",
      "metadata": {
        "id": "rOpUWAYVxTnB"
      },
      "source": [
        "# **Filter source**"
      ]
    },
    {
      "cell_type": "markdown",
      "metadata": {
        "id": "znKY8W_dzEvn"
      },
      "source": [
        "BW(Band Width)\n",
        "\n",
        ": 산맥이 얼마나 뾰족한지 (모음의 구별 없음, 갈수록 덜 뾰족해짐)"
      ]
    },
    {
      "cell_type": "code",
      "metadata": {
        "id": "JXkbOB0txYmJ"
      },
      "source": [
        "def hz2w(F, sr):\n",
        "    NyFreq = sr/2;\n",
        "    w = F/NyFreq *np.pi;\n",
        "    return w\n",
        "\n",
        "def resonance (srate, F, BW):\n",
        "    a2 = np.exp(-hz2w(BW,srate))\n",
        "    omega = F*2*np.pi/srate\n",
        "    a1 = -2*np.sqrt(a2)*np.cos(omega)\n",
        "    a = np.array([1, a1, a2])\n",
        "    b = np.array([sum(a)])\n",
        "    return a, b\n"
      ],
      "execution_count": 8,
      "outputs": []
    },
    {
      "cell_type": "code",
      "metadata": {
        "id": "JzLrc6huzc5_"
      },
      "source": [
        "s = s_all"
      ],
      "execution_count": null,
      "outputs": []
    },
    {
      "cell_type": "code",
      "metadata": {
        "id": "yA3gbxYLzfp6",
        "colab": {
          "base_uri": "https://localhost:8080/",
          "height": 74
        },
        "outputId": "33149a6a-1000-472d-873f-31553d7879f5"
      },
      "source": [
        "RG = 0                        # 산맥의 위치(Hz)\n",
        "BWG = 100                     # 그것의 Band Width\n",
        "a, b = resonance(sr,RG,BWG)   # 0에 산맥을 만들면 성대에서 나듯이 소리가 점점 작아짐(amp)\n",
        "s = lfilter(b, a, s, axis=0)\n",
        "ipd.Audio(s, rate=sr)"
      ],
      "execution_count": null,
      "outputs": [
        {
          "output_type": "execute_result",
          "data": {
            "text/html": [
              "\n",
              "                <audio controls=\"controls\" >\n",
              "                    <source src=\"data:audio/wav;base64,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\" type=\"audio/wav\" />\n",
              "                    Your browser does not support the audio element.\n",
              "                </audio>\n",
              "              "
            ],
            "text/plain": [
              "<IPython.lib.display.Audio object>"
            ]
          },
          "metadata": {
            "tags": []
          },
          "execution_count": 41
        }
      ]
    },
    {
      "cell_type": "code",
      "metadata": {
        "id": "dwJrYxRK2WmZ",
        "colab": {
          "base_uri": "https://localhost:8080/",
          "height": 74
        },
        "outputId": "58945d6d-50d2-4cbf-c702-1e51279a72cb"
      },
      "source": [
        "RG = 281\n",
        "BWG = 90\n",
        "a, b=resonance(sr,RG,BWG)\n",
        "s = lfilter(b, a, s, axis=0)\n",
        "ipd.Audio(s, rate=sr)"
      ],
      "execution_count": null,
      "outputs": [
        {
          "output_type": "execute_result",
          "data": {
            "text/html": [
              "\n",
              "                <audio controls=\"controls\" >\n",
              "                    <source src=\"data:audio/wav;base64,UklGRjQnAABXQVZFZm10IBAAAAABAAEAECcAACBOAAACABAAZGF0YRAnAAAAAAAAAAAAAAIABgANABsAMgBVAIcAywAiAY0BDAKdAj8D8QOyBIMFZQZZB2QIhwnEChwMjw0cD8AQeRJDFBwWBBj4GfobDB4vIGQirCQGJ3Ep6StsLvYwgzMRNp84LTu8PUtA3UJyRQlIoUo4TctPVlLWVEpXr1kEXEtehGCxYtFk5WbtaOZqz2ylbmVwD3Kgcxd1dna9d+54CXoOe/972nyefUl+2X5Nf6V/33/9f/9/5X+yf2Z/AX+Efu19PH1ufIR7e3pTeQx4pnYhdXxzuHHSb81tpmthaf5mgmTwYUxfmFzYWQxXNFROUVtOWEtHSClFAELRPqA7cjhLNS0yGi8QLBApFiYgIy4gQB1XGnYXohTfES8PlQwTCqcHTgUIA88Apf6F/HH6avh09pH0xPIP8XLv7e197CDr0+mS6FznMeYR5f7j+eIG4iXhV+Ca3+/eUd6+3TPdrtwu3LTbP9vR2mzaEdrB2XrZPdkG2dPYothx2D7YCdjS15rXYtcr1/bWw9aP1lnWINbh1ZnVR9Xp1H3UBNR90+bSQdKO0c3QAdAtz1LOc82SzK/LzMrmyfzIDcgZxyDGJMUmxCvDNsJKwWrAmb/Vvh6+c73QvDS8n7sPu4e6CrqauTy58bi7uJq4jbiRuKS4w7jsuB25WLmeufC5UrrGuk275ruSvE29FL7lvr2/msB7wWLCUMNGxEbFUsZqx4zItsnnyhvMT82CzrPP4tAP0jzTatSb1c7WA9g52W3antvI3OrdA98S4BjhFuIN4/3j5+TL5afmeudB6Pvopek+6sTqNuuT69vrDuwr7DTsKOwK7N7rpOtg6xTrwepn6gTqmekj6aHoFuiB5+bmSOaq5RHlgOT343jjAeOS4ibivuFX4fLgkOA14OPfn99r30jfNt8230PfXN9936Xf098H4EPgieDc4D7hsOEz4sbiZeMP5MDkduUv5uvmqudu6DjpC+ro6s/rwOy37bPuse+u8Kjxn/KT84T0dPVl9lb3Svg/+TP6JfsT/Pr82P2t/nf/NwDvAJ8BSALrAogDHASnBCYFmAX6BUoGhwaxBsYGxQavBoQGRAbwBYoFFQWTBAgEdAPaAjgCjwHdACAAWv+J/q/9zvzr+wr7LfpY+Yz4yvcR92D2s/UJ9WL0vfMb84Hy8fFv8f3wnfBP8BLw5O/B76jvlu+L74bviu+Y77Tv3+8b8GjwxvAx8afxJfKo8i7zuPNG9Nn0dPUX9sX2fvdA+Ar52fmq+nz7S/wY/eH9qf5w/zYAAAHMAZkCZwM0BPwEvgV3BigHzgdsCAEJjwkXCpkKFAuIC/MLUwymDOkMGw07DUcNPw0jDfEMqgxODOALXwvQCjUKkQnkCDEIeAe3Bu0FGgU8BFUDZQJvAXcAgf+Q/qb9x/zx+yX7Yfqh+eX4LPh198L2F/Z29eP0YPTw85PzRvMJ89jysPKP8nbyY/JZ8lnyaPKG8rXy9vJH86bzEPSC9Pn0dPXz9Xb2/vaO9yj4y/h6+TL68/q4+4D8SP0P/tL+k/9RABABzwGRAlUDGwThBKYFZwYhB9QHfQgdCbQJQwrKCkwLxws9DKsMEA1qDbgN9Q0iDjwOQw42DhQO3g2SDTINvgw6DKYLBwteCq0J9gg4CHMHpgbPBe0EAgQOAxUCGgEgACz/P/5d/YT8tfvt+iv6bPmw+Pb3QfeS9u/1WfXV9GL0AvSz83TzQPMW8/Py1/LD8rbytfLB8t7yC/NK85nz9vNf9M/0RfW+9Tv2vfZE99L3avgM+bn5cPov+/P7uvyB/Ub+Cf/I/4UAQwEBAsIChANJBA8F0gWSBkwH/gemCEUJ2wlpCvAKcAvrC2AMzQwyDYsN1w0UDkAOWg5gDlMOMA75DawNTA3YDFIMvgseC3UKxAkMCU4IiQe7BuMFAQUVBCEDKAIsATEAPf9Q/m39lPzF+/z6Ovp7+b74BPhO96D2/PVm9eH0bvQO9L/zf/NL8yHz/vLi8s3ywPK/8svy5/IU81PzovP/82f01/RM9cb1Q/bE9kv32fdx+BP5wPl3+jX7+fvA/If9TP4O/87/iwBIAQYCxgKJA04EEwXXBZcGUAcCCKoISQnfCW0K8wp0C+4LYwzQDDUNjg3aDRcOQw5dDmMOVQ4zDvsNrw1ODdoMVQzBCyELdwrGCQ4JUAiLB70G5QUDBRcEIwMpAi0BMwA//1L+b/2W/Mb7/vo7+nz5v/gF+FD3ofb99Wf14vRv9A/0wPOA80zzIvP/8uPyzvLB8sDyzPLo8hXzVPOj8wD0aPTY9E31x/VE9sX2S/fa93H4E/nA+Xf6Nvv6+8H8iP1N/g//zv+LAEgBBwLHAooDTgQUBdcFlwZRBwIIqghJCd8JbQr0CnQL7wtjDNEMNQ2PDdsNGA5EDl0OYw5WDjMO/A2vDU4N2gxVDMELIQt3CsYJDglQCIsHvQblBQMFFwQjAyoCLgEzAD//Uv5v/Zb8xvv++jv6fPm/+AX4UPeh9v31Z/Xi9G/0D/TA84DzTPMi8//y4/LO8sHywPLM8ujyFfNU86PzAPRo9Nj0TfXH9UT2xfZL99r3cfgU+cD5d/o2+/r7wfyI/U3+D//O/4sASAEHAscCigNOBBQF1wWXBlEHAgiqCEkJ3wltCvQKdAvvC2MM0Qw1DY8N2w0YDkQOXQ5jDlYOMw78Da8NTg3aDFUMwQshC3cKxgkOCVAIiwe9BuUFAwUXBCMDKgIuATMAP/9S/m/9lvzG+/76O/p8+b/4BfhQ96H2/fVn9eL0b/QP9MDzgPNM8yLz//Lj8s7ywfLA8szy6PIV81Tzo/MA9Gj02PRN9cf1RPbF9kv32vdx+BT5wPl3+jb7+vvB/Ij9Tf4P/87/iwBIAQcCxwKKA04EFAXXBZcGUQcCCKoISQnfCW0K9Ap0C+8LYwzRDDUNjw3bDRgORA5dDmMOVg4zDvwNrw1ODdoMVQzBCyELdwrGCQ4JUAiLB70G5QUDBRcEIwMqAi4BMwA//1L+b/2W/Mb7/vo7+nz5v/gF+FD3ofb99Wf14vRv9A/0wPOA80zzIvP/8uPyzvLB8sDyzPLo8hXzVPOj8wD0aPTY9E31x/VE9sX2S/fa93H4FPnA+Xf6Nvv6+8H8iP1N/g//zv+LAEgBBwLHAooDTgQUBdcFlwZRBwIIqghJCd8JbQr0CnQL7wtjDNEMNQ2PDdsNGA5EDl0OYw5WDjMO/A2vDU4N2gxVDMELIQt3CsYJDglQCIsHvQblBQMFFwQjAyoCLgEzAD//Uv5v/Zb8xvv++jv6fPm/+AX4UPeh9v31Z/Xi9G/0D/TA84DzTPMi8//y4/LO8sHywPLM8ujyFfNU86PzAPRo9Nj0TfXH9UT2xfZL99r3cfgU+cD5d/o2+/r7wfyI/U3+D//O/4sASAEHAscCigNOBBQF1wWXBlEHAgiqCEkJ3wltCvQKdAvvC2MM0Qw1DY8N2w0YDkQOXQ5jDlYOMw78Da8NTg3aDFUMwQshC3cKxgkOCVAIiwe9BuUFAwUXBCMDKgIuATMAP/9S/m/9lvzG+/76O/p8+b/4BfhQ96H2/fVn9eL0b/QP9MDzgPNM8yLz//Lj8s7ywfLA8szy6PIV81Tzo/MA9Gj02PRN9cf1RPbF9kv32vdx+BT5wPl3+jb7+vvB/Ij9Tf4P/87/iwBIAQcCxwKKA04EFAXXBZcGUQcCCKoISQnfCW0K9Ap0C+8LYwzRDDUNjw3bDRgORA5dDmMOVg4zDvwNrw1ODdoMVQzBCyELdwrGCQ4JUAiLB70G5QUDBRcEIwMqAi4BMwA//1L+b/2W/Mb7/vo7+nz5v/gF+FD3ofb99Wf14vRv9A/0wPOA80zzIvP/8uPyzvLB8sDyzPLo8hXzVPOj8wD0aPTY9E31x/VE9sX2S/fa93H4FPnA+Xf6Nvv6+8H8iP1N/g//zv+LAEgBBwLHAooDTgQUBdcFlwZRBwIIqghJCd8JbQr0CnQL7wtjDNEMNQ2PDdsNGA5EDl0OYw5WDjMO/A2vDU4N2gxVDMELIQt3CsYJDglQCIsHvQblBQMFFwQjAyoCLgEzAD//Uv5v/Zb8xvv++jv6fPm/+AX4UPeh9v31Z/Xi9G/0D/TA84DzTPMi8//y4/LO8sHywPLM8ujyFfNU86PzAPRo9Nj0TfXH9UT2xfZL99r3cfgU+cD5d/o2+/r7wfyI/U3+D//O/4sASAEHAscCigNOBBQF1wWXBlEHAgiqCEkJ3wltCvQKdAvvC2MM0Qw1DY8N2w0YDkQOXQ5jDlYOMw78Da8NTg3aDFUMwQshC3cKxgkOCVAIiwe9BuUFAwUXBCMDKgIuATMAP/9S/m/9lvzG+/76O/p8+b/4BfhQ96H2/fVn9eL0b/QP9MDzgPNM8yLz//Lj8s7ywfLA8szy6PIV81Tzo/MA9Gj02PRN9cf1RPbF9kv32vdx+BT5wPl3+jb7+vvB/Ij9Tf4P/87/iwBIAQcCxwKKA04EFAXXBZcGUQcCCKoISQnfCW0K9Ap0C+8LYwzRDDUNjw3bDRgORA5dDmMOVg4zDvwNrw1ODdoMVQzBCyELdwrGCQ4JUAiLB70G5QUDBRcEIwMqAi4BMwA//1L+b/2W/Mb7/vo7+nz5v/gF+FD3ofb99Wf14vRv9A/0wPOA80zzIvP/8uPyzvLB8sDyzPLo8hXzVPOj8wD0aPTY9E31x/VE9sX2S/fa93H4FPnA+Xf6Nvv6+8H8iP1N/g//zv+LAEgBBwLHAooDTgQUBdcFlwZRBwIIqghJCd8JbQr0CnQL7wtjDNEMNQ2PDdsNGA5EDl0OYw5WDjMO/A2vDU4N2gxVDMELIQt3CsYJDglQCIsHvQblBQMFFwQjAyoCLgEzAD//Uv5v/Zb8xvv++jv6fPm/+AX4UPeh9v31Z/Xi9G/0D/TA84DzTPMi8//y4/LO8sHywPLM8ujyFfNU86PzAPRo9Nj0TfXH9UT2xfZL99r3cfgU+cD5d/o2+/r7wfyI/U3+D//O/4sASAEHAscCigNOBBQF1wWXBlEHAgiqCEkJ3wltCvQKdAvvC2MM0Qw1DY8N2w0YDkQOXQ5jDlYOMw78Da8NTg3aDFUMwQshC3cKxgkOCVAIiwe9BuUFAwUXBCMDKgIuATMAP/9S/m/9lvzG+/76O/p8+b/4BfhQ96H2/fVn9eL0b/QP9MDzgPNM8yLz//Lj8s7ywfLA8szy6PIV81Tzo/MA9Gj02PRN9cf1RPbF9kv32vdx+BT5wPl3+jb7+vvB/Ij9Tf4P/87/iwBIAQcCxwKKA04EFAXXBZcGUQcCCKoISQnfCW0K9Ap0C+8LYwzRDDUNjw3bDRgORA5dDmMOVg4zDvwNrw1ODdoMVQzBCyELdwrGCQ4JUAiLB70G5QUDBRcEIwMqAi4BMwA//1L+b/2W/Mb7/vo7+nz5v/gF+FD3ofb99Wf14vRv9A/0wPOA80zzIvP/8uPyzvLB8sDyzPLo8hXzVPOj8wD0aPTY9E31x/VE9sX2S/fa93H4FPnA+Xf6Nvv6+8H8iP1N/g//zv+LAEgBBwLHAooDTgQUBdcFlwZRBwIIqghJCd8JbQr0CnQL7wtjDNEMNQ2PDdsNGA5EDl0OYw5WDjMO/A2vDU4N2gxVDMELIQt3CsYJDglQCIsHvQblBQMFFwQjAyoCLgEzAD//Uv5v/Zb8xvv++jv6fPm/+AX4UPeh9v31Z/Xi9G/0D/TA84DzTPMi8//y4/LO8sHywPLM8ujyFfNU86PzAPRo9Nj0TfXH9UT2xfZL99r3cfgU+cD5d/o2+/r7wfyI/U3+D//O/4sASAEHAscCigNOBBQF1wWXBlEHAgiqCEkJ3wltCvQKdAvvC2MM0Qw1DY8N2w0YDkQOXQ5jDlYOMw78Da8NTg3aDFUMwQshC3cKxgkOCVAIiwe9BuUFAwUXBCMDKgIuATMAP/9S/m/9lvzG+/76O/p8+b/4BfhQ96H2/fVn9eL0b/QP9MDzgPNM8yLz//Lj8s7ywfLA8szy6PIV81Tzo/MA9Gj02PRN9cf1RPbF9kv32vdx+BT5wPl3+jb7+vvB/Ij9Tf4P/87/iwBIAQcCxwKKA04EFAXXBZcGUQcCCKoISQnfCW0K9Ap0C+8LYwzRDDUNjw3bDRgORA5dDmMOVg4zDvwNrw1ODdoMVQzBCyELdwrGCQ4JUAiLB70G5QUDBRcEIwMqAi4BMwA//1L+b/2W/Mb7/vo7+nz5v/gF+FD3ofb99Wf14vRv9A/0wPOA80zzIvP/8uPyzvLB8sDyzPLo8hXzVPOj8wD0aPTY9E31x/VE9sX2S/fa93H4FPnA+Xf6Nvv6+8H8iP1N/g//zv+LAEgBBwLHAooDTgQUBdcFlwZRBwIIqghJCd8JbQr0CnQL7wtjDNEMNQ2PDdsNGA5EDl0OYw5WDjMO/A2vDU4N2gxVDMELIQt3CsYJDglQCIsHvQblBQMFFwQjAyoCLgEzAD//Uv5v/Zb8xvv++jv6fPm/+AX4UPeh9v31Z/Xi9G/0D/TA84DzTPMi8//y4/LO8sHywPLM8ujyFfNU86PzAPRo9Nj0TfXH9UT2xfZL99r3cfgU+cD5d/o2+/r7wfyI/U3+D//O/4sASAEHAscCigNOBBQF1wWXBlEHAgiqCEkJ3wltCvQKdAvvC2MM0Qw1DY8N2w0YDkQOXQ5jDlYOMw78Da8NTg3aDFUMwQshC3cKxgkOCVAIiwe9BuUFAwUXBCMDKgIuATMAP/9S/m/9lvzG+/76O/p8+b/4BfhQ96H2/fVn9eL0b/QP9MDzgPNM8yLz//Lj8s7ywfLA8szy6PIV81Tzo/MA9Gj02PRN9cf1RPbF9kv32vdx+BT5wPl3+jb7+vvB/Ij9Tf4P/87/iwBIAQcCxwKKA04EFAXXBZcGUQcCCKoISQnfCW0K9Ap0C+8LYwzRDDUNjw3bDRgORA5dDmMOVg4zDvwNrw1ODdoMVQzBCyELdwrGCQ4JUAiLB70G5QUDBRcEIwMqAi4BMwA//1L+b/2W/Mb7/vo7+nz5v/gF+FD3ofb99Wf14vRv9A/0wPOA80zzIvP/8uPyzvLB8sDyzPLo8hXzVPOj8wD0aPTY9E31x/VE9sX2S/fa93H4FPnA+Xf6Nvv6+8H8iP1N/g//zv+LAEgBBwLHAooDTgQUBdcFlwZRBwIIqghJCd8JbQr0CnQL7wtjDNEMNQ2PDdsNGA5EDl0OYw5WDjMO/A2vDU4N2gxVDMELIQt3CsYJDglQCIsHvQblBQMFFwQjAyoCLgEzAD//Uv5v/Zb8xvv++jv6fPm/+AX4UPeh9v31Z/Xi9G/0D/TA84DzTPMi8//y4/LO8sHywPLM8ujyFfNU86PzAPRo9Nj0TfXH9UT2xfZL99r3cfgU+cD5d/o2+/r7wfyI/U3+D//O/4sASAEHAscCigNOBBQF1wWXBlEHAgiqCEkJ3wltCvQKdAvvC2MM0Qw1DY8N2w0YDkQOXQ5jDlYOMw78Da8NTg3aDFUMwQshC3cKxgkOCVAIiwe9BuUFAwUXBCMDKgIuATMAP/9S/m/9lvzG+/76O/p8+b/4BfhQ96H2/fVn9eL0b/QP9MDzgPNM8yLz//Lj8s7ywfLA8szy6PIV81Tzo/MA9Gj02PRN9cf1RPbF9kv32vdx+BT5wPl3+jb7+vvB/Ij9Tf4P/87/iwBIAQcCxwKKA04EFAXXBZcGUQcCCKoISQnfCW0K9Ap0C+8LYwzRDDUNjw3bDRgORA5dDmMOVg4zDvwNrw1ODdoMVQzBCyELdwrGCQ4JUAiLB70G5QUDBRcEIwMqAi4BMwA//1L+b/2W/Mb7/vo7+nz5v/gF+FD3ofb99Wf14vRv9A/0wPOA80zzIvP/8uPyzvLB8sDyzPLo8hXzVPOj8wD0aPTY9E31x/VE9sX2S/fa93H4FPnA+Xf6Nvv6+8H8iP1N/g//zv+LAEgBBwLHAooDTgQUBdcFlwZRBwIIqghJCd8JbQr0CnQL7wtjDNEMNQ2PDdsNGA5EDl0OYw5WDjMO/A2vDU4N2gxVDMELIQt3CsYJDglQCIsHvQblBQMFFwQjAyoCLgEzAD//Uv5v/Zb8xvv++jv6fPm/+AX4UPeh9v31Z/Xi9G/0D/TA84DzTPMi8//y4/LO8sHywPLM8ujyFfNU86PzAPRo9Nj0TfXH9UT2xfZL99r3cfgU+cD5d/o2+/r7wfyI/U3+D//O/4sASAEHAscCigNOBBQF1wWXBlEHAgiqCEkJ3wltCvQKdAvvC2MM0Qw1DY8N2w0YDkQOXQ5jDlYOMw78Da8NTg3aDFUMwQshC3cKxgkOCVAIiwe9BuUFAwUXBCMDKgIuATMAP/9S/m/9lvzG+/76O/p8+b/4BfhQ96H2/fVn9eL0b/QP9MDzgPNM8yLz//Lj8s7ywfLA8szy6PIV81Tzo/MA9Gj02PRN9cf1RPbF9kv32vdx+BT5wPl3+jb7+vvB/Ij9Tf4P/87/iwBIAQcCxwKKA04EFAXXBZcGUQcCCKoISQnfCW0K9Ap0C+8LYwzRDDUNjw3bDRgORA5dDmMOVg4zDvwNrw1ODdoMVQzBCyELdwrGCQ4JUAiLB70G5QUDBRcEIwMqAi4BMwA//1L+b/2W/Mb7/vo7+nz5v/gF+FD3ofb99Wf14vRv9A/0wPOA80zzIvP/8uPyzvLB8sDyzPLo8hXzVPOj8wD0aPTY9E31x/VE9sX2S/fa93H4FPnA+Xf6Nvv6+8H8iP1N/g//zv+LAEgBBwLHAooDTgQUBdcFlwZRBwIIqghJCd8JbQr0CnQL7wtjDNEMNQ2PDdsNGA5EDl0OYw5WDjMO/A2vDU4N2gxVDMELIQt3CsYJDglQCIsHvQblBQMFFwQjAyoCLgEzAD//Uv5v/Zb8xvv++jv6fPm/+AX4UPeh9v31Z/Xi9G/0D/TA84DzTPMi8//y4/LO8sHywPLM8ujyFfNU86PzAPRo9Nj0TfXH9UT2xfZL99r3cfgU+cD5d/o2+/r7wfyI/U3+D//O/4sASAEHAscCigNOBBQF1wWXBlEHAgiqCEkJ3wltCvQKdAvvC2MM0Qw1DY8N2w0YDkQOXQ5jDlYOMw78Da8NTg3aDFUMwQshC3cKxgkOCVAIiwe9BuUFAwUXBCMDKgIuATMAP/9S/m/9lvzG+/76O/p8+b/4BfhQ96H2/fVn9eL0b/QP9MDzgPNM8yLz//Lj8s7ywfLA8szy6PIV81Tzo/MA9Gj02PRN9cf1RPbF9kv32vdx+BT5wPl3+jb7+vvB/Ij9Tf4P/87/iwBIAQcCxwKKA04EFAXXBZcGUQcCCKoISQnfCW0K9Ap0C+8LYwzRDDUNjw3bDRgORA5dDmMOVg4zDvwNrw1ODdoMVQzBCyELdwrGCQ4JUAiLB70G5QUDBRcEIwMqAi4BMwA//1L+b/2W/Mb7/vo7+nz5v/gF+FD3ofb99Wf14vRv9A/0wPOA80zzIvP/8uPyzvLB8sDyzPLo8hXzVPOj8wD0aPTY9E31x/VE9sX2S/fa93H4FPnA+Xf6Nvv6+8H8iP1N/g//zv+LAEgBBwLHAooDTgQUBdcFlwZRBwIIqghJCd8JbQr0CnQL7wtjDNEMNQ2PDdsNGA5EDl0OYw5WDjMO/A2vDU4N2gxVDMELIQt3CsYJDglQCIsHvQblBQMFFwQjAyoCLgEzAD//Uv5v/Zb8xvv++jv6fPm/+AX4UPeh9v31Z/Xi9G/0D/TA84DzTPMi8//y4/LO8sHywPLM8ujyFfNU86PzAPRo9Nj0TfXH9UT2xfZL99r3cfgU+cD5d/o2+/r7wfyI/U3+D//O/4sASAEHAscCigNOBBQF1wWXBlEHAgiqCEkJ3wltCvQKdAvvC2MM0Qw1DY8N2w0YDkQOXQ5jDlYOMw78Da8NTg3aDFUMwQshC3cKxgkOCVAIiwe9BuUFAwUXBCMDKgIuATMAP/9S/m/9lvzG+/76O/p8+b/4BfhQ96H2/fVn9eL0b/QP9MDzgPNM8yLz//Lj8s7ywfLA8szy6PIV81Tzo/MA9Gj02PRN9cf1RPbF9kv32vdx+BT5wPl3+jb7+vvB/Ij9Tf4P/87/iwBIAQcCxwKKA04EFAXXBZcGUQcCCKoISQnfCW0K9Ap0C+8LYwzRDDUNjw3bDRgORA5dDmMOVg4zDvwNrw1ODdoMVQzBCyELdwrGCQ4JUAiLB70G5QUDBRcEIwMqAi4BMwA//1L+b/2W/Mb7/vo7+nz5v/gF+FD3ofb99Wf14vRv9A/0wPOA80zzIvP/8uPyzvLB8sDyzPLo8hXzVPOj8wD0aPTY9E31x/VE9sX2S/fa93H4FPnA+Xf6Nvv6+8H8iP1N/g//zv+LAEgBBwLHAooDTgQUBdcFlwZRBwIIqghJCd8JbQr0CnQL7wtjDNEMNQ2PDdsNGA5EDl0OYw5WDjMO/A2vDU4N2gxVDMELIQt3CsYJDglQCIsHvQblBQMFFwQjAyoCLgEzAD//Uv5v/Zb8xvv++jv6fPm/+AX4UPeh9v31Z/Xi9G/0D/TA84DzTPMi8//y4/LO8sHywPLM8ujyFfNU86PzAPRo9Nj0TfXH9UT2xfZL99r3cfgU+cD5d/o2+/r7wfyI/U3+D//O/4sASAEHAscCigNOBBQF1wWXBlEHAgiqCEkJ3wltCvQKdAvvC2MM0Qw1DY8N2w0YDkQOXQ5jDlYOMw78Da8NTg3aDFUMwQshC3cKxgkOCVAIiwe9BuUFAwUXBCMDKgIuATMAP/9S/m/9lvzG+/76O/p8+b/4BfhQ96H2/fVn9eL0b/QP9MDzgPNM8yLz//Lj8s7ywfLA8szy6PIV81Tzo/MA9Gj02PRN9cf1RPbF9kv32vdx+BT5wPl3+jb7+vvB/Ij9Tf4P/87/iwBIAQcCxwKKA04EFAXXBZcGUQcCCKoISQnfCW0K9Ap0C+8LYwzRDDUNjw3bDRgORA5dDmMOVg4zDvwNrw1ODdoMVQzBCyELdwrGCQ4JUAiLB70G5QUDBRcEIwMqAi4BMwA//1L+b/2W/Mb7/vo7+nz5v/gF+FD3ofb99Wf14vRv9A/0wPOA80zzIvP/8uPyzvLB8sDyzPLo8hXzVPOj8wD0aPTY9E31x/VE9sX2S/fa93H4FPnA+Xf6Nvv6+8H8iP1N/g//zv+LAEgBBwLHAooDTgQUBdcFlwZRBwIIqghJCd8JbQr0CnQL7wtjDNEMNQ2PDdsNGA5EDl0OYw5WDjMO/A2vDU4N2gxVDMELIQt3CsYJDglQCIsHvQblBQMFFwQjAyoCLgEzAD//Uv5v/Zb8xvv++jv6fPm/+AX4UPeh9v31Z/Xi9G/0D/TA84DzTPMi8//y4/LO8sHywPLM8ujyFfNU86PzAPRo9Nj0TfXH9UT2xfZL99r3cfgU+cD5d/o2+/r7wfyI/U3+D//O/4sASAEHAscCigNOBBQF1wWXBlEHAgiqCEkJ3wltCvQKdAvvC2MM0Qw1DY8N2w0YDkQOXQ5jDlYOMw78Da8NTg3aDFUMwQshC3cKxgkOCVAIiwe9BuUFAwUXBCMDKgIuATMAP/9S/m/9lvzG+/76O/p8+b/4BfhQ96H2/fVn9eL0b/QP9MDzgPNM8yLz//Lj8s7ywfLA8szy6PIV81Tzo/MA9Gj02PRN9cf1RPbF9kv32vdx+BT5wPl3+jb7+vvB/Ij9Tf4P/87/iwBIAQcCxwKKA04EFAXXBZcGUQcCCKoISQnfCW0K9Ap0C+8LYwzRDDUNjw3bDRgORA5dDmMOVg4zDvwNrw1ODdoMVQzBCyELdwrGCQ4JUAiLB70G5QUDBRcEIwMqAi4BMwA//1L+b/2W/Mb7/vo7+nz5v/gF+FD3ofb99Wf14vRv9A/0wPOA80zzIvP/8uPyzvLB8sDyzPLo8hXzVPOj8wD0aPTY9E31x/VE9sX2S/fa93H4FPnA+Xf6Nvv6+8H8iP1N/g//zv+LAEgBBwLHAooDTgQUBdcFlwZRBwIIqghJCd8JbQr0CnQL7wtjDNEMNQ2PDdsNGA5EDl0OYw5WDjMO/A2vDU4N2gxVDMELIQt3CsYJDglQCIsHvQblBQMFFwQjAyoCLgEzAD//Uv5v/Zb8xvv++jv6fPm/+AX4UPeh9v31Z/Xi9G/0D/TA84DzTPMi8//y4/LO8sHywPLM8ujyFfNU86PzAPRo9Nj0TfXH9UT2xfZL99r3cfgU+cD5d/o2+/r7wfyI/U3+D//O/4sASAEHAscCigNOBBQF1wWXBlEHAgiqCEkJ3wltCvQKdAvvC2MM0Qw1DY8N2w0YDkQOXQ5jDlYOMw78Da8NTg3aDFUMwQshC3cKxgkOCVAIiwe9BuUFAwUXBCMDKgIuATMAP/9S/m/9lvzG+/76O/p8+b/4BfhQ96H2/fVn9eL0b/QP9MDzgPNM8yLz//Lj8s7ywfLA8szy6PIV81Tzo/MA9Gj02PRN9cf1RPbF9kv32vdx+BT5wPl3+jb7+vvB/Ij9Tf4P/87/iwBIAQcCxwKKA04EFAXXBZcGUQcCCKoISQnfCW0K9Ap0C+8LYwzRDDUNjw3bDRgORA5dDmMOVg4zDvwNrw1ODdoMVQzBCyELdwrGCQ4JUAiLB70G5QUDBRcEIwMqAi4BMwA//1L+b/2W/Mb7/vo7+nz5v/gF+FD3ofb99Wf14vRv9A/0wPOA80zzIvP/8uPyzvLB8sDyzPLo8hXzVPOj8wD0aPTY9E31x/VE9sX2S/fa93H4FPnA+Xf6Nvv6+8H8iP1N/g//zv+LAEgBBwLHAooDTgQUBdcFlwZRBwIIqghJCd8JbQr0CnQL7wtjDNEMNQ2PDdsNGA5EDl0OYw5WDjMO/A2vDU4N2gxVDMELIQt3CsYJDglQCIsHvQblBQMFFwQjAyoCLgEzAD//Uv5v/Zb8xvv++jv6fPm/+AX4UPeh9v31Z/Xi9G/0D/TA84DzTPMi8//y4/LO8sHywPLM8ujyFfNU86PzAPRo9Nj0TfXH9UT2xfZL99r3cfgU+cD5d/o2+/r7wfyI/U3+D//O/4sASAEHAscCigNOBBQF1wWXBlEHAgiqCEkJ3wltCvQKdAvvC2MM0Qw1DY8N2w0YDkQOXQ5jDlYOMw78Da8NTg3aDFUMwQshC3cKxgkOCVAIiwe9BuUFAwUXBCMDKgIuATMAP/9S/m/9lvzG+/76O/p8+b/4BfhQ96H2/fVn9eL0b/QP9MDzgPNM8yLz//Lj8s7ywfLA8szy6PIV81Tzo/MA9Gj02PRN9cf1RPbF9kv32vdx+BT5wPl3+jb7+vvB/Ij9Tf4P/87/iwBIAQcCxwKKA04EFAXXBZcGUQcCCKoISQnfCW0K9Ap0C+8LYwzRDDUNjw3bDRgO\" type=\"audio/wav\" />\n",
              "                    Your browser does not support the audio element.\n",
              "                </audio>\n",
              "              "
            ],
            "text/plain": [
              "<IPython.lib.display.Audio object>"
            ]
          },
          "metadata": {
            "tags": []
          },
          "execution_count": 35
        }
      ]
    },
    {
      "cell_type": "code",
      "metadata": {
        "id": "cQCyNfPq2ctE",
        "colab": {
          "base_uri": "https://localhost:8080/",
          "height": 74
        },
        "outputId": "12a58dc1-84f0-4292-af19-8c6c5fe02f0c"
      },
      "source": [
        "RG = 2281\n",
        "BWG = 110\n",
        "a, b=resonance(sr,RG,BWG)\n",
        "s = lfilter(b, a, s, axis=0)\n",
        "ipd.Audio(s, rate=sr)"
      ],
      "execution_count": null,
      "outputs": [
        {
          "output_type": "execute_result",
          "data": {
            "text/html": [
              "\n",
              "                <audio controls=\"controls\" >\n",
              "                    <source src=\"data:audio/wav;base64,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\" type=\"audio/wav\" />\n",
              "                    Your browser does not support the audio element.\n",
              "                </audio>\n",
              "              "
            ],
            "text/plain": [
              "<IPython.lib.display.Audio object>"
            ]
          },
          "metadata": {
            "tags": []
          },
          "execution_count": 34
        }
      ]
    },
    {
      "cell_type": "code",
      "metadata": {
        "id": "F_qeX5ys2ggi",
        "colab": {
          "base_uri": "https://localhost:8080/",
          "height": 74
        },
        "outputId": "a6fc73e7-41a4-45dd-d594-f812df052575"
      },
      "source": [
        "RG = 3187\n",
        "BWG = 170\n",
        "a, b=resonance(sr,RG,BWG)\n",
        "s = lfilter(b, a, s, axis=0)\n",
        "ipd.Audio(s, rate=sr)"
      ],
      "execution_count": null,
      "outputs": [
        {
          "output_type": "execute_result",
          "data": {
            "text/html": [
              "\n",
              "                <audio controls=\"controls\" >\n",
              "                    <source src=\"data:audio/wav;base64,UklGRjQnAABXQVZFZm10IBAAAAABAAEAECcAACBOAAACABAAZGF0YRAnAAAAAAAAAAABAAQACgAWACsASwB7AL0AEwF+AfwBjQIvA+ADoARwBU8GQgdKCGoJpQr7C24N+g6fEFgSIhT8FeIX1hnWG+YdByA6IoEk2yZGKcArQy7OMFwz6zV5OAY7lD0iQLNCSEXfR3hKEU2lTzJStFQpV45Z5FsrXmRgkGKxZMZmz2jJarRsjG5PcPpxjHMFdWR2rHfdePh5/3rxe818k31AftJ+SX+if95//H//f+Z/tH9pfwV/in71fUV9enySe4t6ZXkgeLx2OHWVc9Nx8G/sbcdrgmkfZ6NkEGJrX7hc+FktV1ZUclGATn9LbkhPRSVC9T7CO5I4aTVKMjcvLiwvKTYmQSNPIGAddhqTF70U9hFFD6oMJwq7B2MFHQPmALv+m/yG+n34hfaf9NDyGvF87/ftiOws6+Dpn+hq5z7mHOUH5AHjDOIq4Vvgn9/03lfexd073bbcNty720Xb1tpw2hTaw9l92UDZC9nZ2KnYeNhG2BDY2deh12jXMtf81snWltZi1ivW7dWm1VXV+NSO1BbUj9P60lXSotHi0BXQQM9kzoTNo8zBy97K+ckQySLILsc1xjfFOMQ7w0TCVsF1wKK/374ovn693LxBvKu7GruRuhG6n7k+ufG4uriZuIy4kbiluMS47bgeuVe5m7nsuUy6vrpDu9y7iLxEvQy+3r62v5PAdMFawkbDOsQ6xUXGXMd+yKrJ28oQzEbNec6qz9jQBdIx017UjtXC1vfXLtlk2pXbwdzk3f3eDeAT4RDiB+P34+HkxuWj5nfnQOj86KjpQurJ6jzrm+vk6xjsN+w/7DTsFuzo667rausd68vqceoQ6qbpMOmw6CToj+fy5lLms+UY5YXk/ON94wfjmOIu4sbhX+H54JXgOODk357faN9E3zLfMt9A31rffN+k39HfBOA/4IPg1OA04aXhKOK64lvjBuS45G7lJ+bj5qDnY+gs6f7p2urB67Lsqu2n7qbvpPCf8ZbyivN69Gn1WfZK9z74M/ko+hz7C/zz/NL9p/5y/zEA6QCZAUMC5gKDAxkEpQQmBZoF/QVPBo0GuAbOBs8GugaQBlAG/AWWBSEFngQSBH4D5AJEApwB6wAvAGr/mP69/dz89/sT+zX6XvmS+ND3GPdn9rv1EvVr9MXzIvOF8vPxbvH78JrwTPAP8OLvwO+o75bviu+E74bvk++s79bvEfBe8LzwJ/Ge8R3yofIn87HzPfTP9Gj1C/a49nD3M/j++M75ofpz+0P8D/3Y/Z/+Zf8rAPQAwAGOAl0DKwT0BLcFcgYjB8oHZwj8CIoJEgqUChALhgvyC1QMqAztDCENQg1PDUkNLQ38DLYMXAztC2wL3QpBCpwJ7wg9CIQHxAb8BSkFTARkA3QCfAGDAIv/mP6t/c38+Pss+2j6qvnv+DX4fffJ9hv2ePXj9F/07vOQ80TzB/PX8rDyj/J18mHyVfJU8mHyffKr8uzyPfOd8wj0e/Tz9G717PVu9vX2g/cb+L74bfkl+uf6rft3/ED9B/7K/ov/SAAGAcQBhgJKAxAE1wSdBV8GGwfPB3kIGQmwCT4KxQpHC8MLOQyoDA8Naw26DfkNJw5DDksOPw4fDukNnw0/DcwMRwyyCxILaQq4CQEJRAiBB7QG3gX9BBIEHgMjAiYBKgA0/0b+Y/2K/Lz79fo0+nX5ufj+90f3l/bx9Vn10/Rf9P/zsfNy8z/zFvPz8tfywfKz8rDyuvLV8gHzQPOP8+3zVvTI9D71uPU09rT2OvfH9174//is+WP6I/vp+7H8ef0+/gH/wP98ADkB9gG2AnkDPgQFBcoFiwZGB/gHoQhBCdYJZArrCmsL5gtcDMoMMA2MDdoNGA5GDmEOaA5cDjsOBQ65DVkN5QxfDMsLKguACs8JFwlaCJYHyQbzBREFJQQwAzUCOAE7AEb/V/5z/Zr8y/sE+0P6hPnH+Az4Vfel9v71ZvXf9Gz0C/S9833zSvMh8/7y4fLL8r3yuvLE8t7yCvNJ85jz9vNf9ND0RvW/9Tz2vPZB9873ZPgG+bP5avop++/7t/x+/UT+Bv/F/4EAPgH7AbsCfgNDBAkFzgWPBkoH/QemCEUJ2gloCu4KbwvqC18Mzgw0DY8N3Q0bDkkOZA5rDl8OPQ4HDrwNWw3nDGIMzQssC4IK0QkaCVwImAfLBvUFEwUnBDIDNwI5AT0AR/9Z/nX9nPzN+wb7RPqF+cn4DvhW96b2APZn9eH0bfQM9L7zfvNL8yLz//Li8szyvvK68sXy3/IL80nzmfP281/00PRH9cD1Pfa89kL3z/dl+Ab5s/lq+ir77/u3/H/9RP4H/8b/ggA+AfwBvAJ+A0QECgXPBZAGSwf9B6YIRQnbCWgK7wpvC+oLXwzODDQNjw3dDRwOSQ5kDmsOXw4+DgcOvA1cDegMYgzNCywLggrRCRoJXAiYB8sG9QUTBScEMgM3AjkBPQBH/1n+df2c/M37BvtE+ob5yfgO+Ff3pvYA9mj14fRt9Az0vvN+80vzIvP/8uLyzPK+8rvyxfLf8gvzSvOZ8/bzYPTR9Ef1wPU99r32QvfP92X4B/mz+Wr6Kvvv+7f8f/1E/gf/xv+CAD4B/AG8An4DRAQKBc8FkAZLB/0HpghFCdsJaArvCm8L6gtgDM4MNA2PDd0NHA5JDmQObA5fDj4OBw68DVwN6AxiDM0LLAuCCtEJGglcCJgHywb1BRMFJwQyAzcCOQE9AEf/Wf51/Zz8zfsG+0T6hvnJ+A74V/em9gD2aPXh9G30DPS+837zS/Mi8//y4vLM8r7yu/LF8t/yC/NK85nz9vNg9NH0R/XA9T32vfZC98/3ZfgH+bP5avoq++/7t/x//UT+B//G/4IAPgH8AbwCfgNEBAoFzwWQBksH/QemCEUJ2wloCu8KbwvqC2AMzgw0DY8N3Q0cDkkOZA5sDl8OPg4HDrwNXA3oDGIMzQssC4IK0QkaCVwImAfLBvUFEwUnBDIDNwI5AT0AR/9Z/nX9nPzN+wb7RPqG+cn4DvhX96b2APZo9eH0bfQM9L7zfvNL8yLz//Li8szyvvK78sXy3/IL80rzmfP282D00fRH9cD1Pfa99kL3z/dl+Af5s/lq+ir77/u3/H/9RP4H/8b/ggA+AfwBvAJ+A0QECgXPBZAGSwf9B6YIRQnbCWgK7wpvC+oLYAzODDQNjw3dDRwOSQ5kDmwOXw4+DgcOvA1cDegMYgzNCywLggrRCRoJXAiYB8sG9QUTBScEMgM3AjkBPQBH/1n+df2c/M37BvtE+ob5yfgO+Ff3pvYA9mj14fRt9Az0vvN+80vzIvP/8uLyzPK+8rvyxfLf8gvzSvOZ8/bzYPTR9Ef1wPU99r32QvfP92X4B/mz+Wr6Kvvv+7f8f/1E/gf/xv+CAD4B/AG8An4DRAQKBc8FkAZLB/0HpghFCdsJaArvCm8L6gtgDM4MNA2PDd0NHA5JDmQObA5fDj4OBw68DVwN6AxiDM0LLAuCCtEJGglcCJgHywb1BRMFJwQyAzcCOQE9AEf/Wf51/Zz8zfsG+0T6hvnJ+A74V/em9gD2aPXh9G30DPS+837zS/Mi8//y4vLM8r7yu/LF8t/yC/NK85nz9vNg9NH0R/XA9T32vfZC98/3ZfgH+bP5avoq++/7t/x//UT+B//G/4IAPgH8AbwCfgNEBAoFzwWQBksH/QemCEUJ2wloCu8KbwvqC2AMzgw0DY8N3Q0cDkkOZA5sDl8OPg4HDrwNXA3oDGIMzQssC4IK0QkaCVwImAfLBvUFEwUnBDIDNwI5AT0AR/9Z/nX9nPzN+wb7RPqG+cn4DvhX96b2APZo9eH0bfQM9L7zfvNL8yLz//Li8szyvvK78sXy3/IL80rzmfP282D00fRH9cD1Pfa99kL3z/dl+Af5s/lq+ir77/u3/H/9RP4H/8b/ggA+AfwBvAJ+A0QECgXPBZAGSwf9B6YIRQnbCWgK7wpvC+oLYAzODDQNjw3dDRwOSQ5kDmwOXw4+DgcOvA1cDegMYgzNCywLggrRCRoJXAiYB8sG9QUTBScEMgM3AjkBPQBH/1n+df2c/M37BvtE+ob5yfgO+Ff3pvYA9mj14fRt9Az0vvN+80vzIvP/8uLyzPK+8rvyxfLf8gvzSvOZ8/bzYPTR9Ef1wPU99r32QvfP92X4B/mz+Wr6Kvvv+7f8f/1E/gf/xv+CAD4B/AG8An4DRAQKBc8FkAZLB/0HpghFCdsJaArvCm8L6gtgDM4MNA2PDd0NHA5JDmQObA5fDj4OBw68DVwN6AxiDM0LLAuCCtEJGglcCJgHywb1BRMFJwQyAzcCOQE9AEf/Wf51/Zz8zfsG+0T6hvnJ+A74V/em9gD2aPXh9G30DPS+837zS/Mi8//y4vLM8r7yu/LF8t/yC/NK85nz9vNg9NH0R/XA9T32vfZC98/3ZfgH+bP5avoq++/7t/x//UT+B//G/4IAPgH8AbwCfgNEBAoFzwWQBksH/QemCEUJ2wloCu8KbwvqC2AMzgw0DY8N3Q0cDkkOZA5sDl8OPg4HDrwNXA3oDGIMzQssC4IK0QkaCVwImAfLBvUFEwUnBDIDNwI5AT0AR/9Z/nX9nPzN+wb7RPqG+cn4DvhX96b2APZo9eH0bfQM9L7zfvNL8yLz//Li8szyvvK78sXy3/IL80rzmfP282D00fRH9cD1Pfa99kL3z/dl+Af5s/lq+ir77/u3/H/9RP4H/8b/ggA+AfwBvAJ+A0QECgXPBZAGSwf9B6YIRQnbCWgK7wpvC+oLYAzODDQNjw3dDRwOSQ5kDmwOXw4+DgcOvA1cDegMYgzNCywLggrRCRoJXAiYB8sG9QUTBScEMgM3AjkBPQBH/1n+df2c/M37BvtE+ob5yfgO+Ff3pvYA9mj14fRt9Az0vvN+80vzIvP/8uLyzPK+8rvyxfLf8gvzSvOZ8/bzYPTR9Ef1wPU99r32QvfP92X4B/mz+Wr6Kvvv+7f8f/1E/gf/xv+CAD4B/AG8An4DRAQKBc8FkAZLB/0HpghFCdsJaArvCm8L6gtgDM4MNA2PDd0NHA5JDmQObA5fDj4OBw68DVwN6AxiDM0LLAuCCtEJGglcCJgHywb1BRMFJwQyAzcCOQE9AEf/Wf51/Zz8zfsG+0T6hvnJ+A74V/em9gD2aPXh9G30DPS+837zS/Mi8//y4vLM8r7yu/LF8t/yC/NK85nz9vNg9NH0R/XA9T32vfZC98/3ZfgH+bP5avoq++/7t/x//UT+B//G/4IAPgH8AbwCfgNEBAoFzwWQBksH/QemCEUJ2wloCu8KbwvqC2AMzgw0DY8N3Q0cDkkOZA5sDl8OPg4HDrwNXA3oDGIMzQssC4IK0QkaCVwImAfLBvUFEwUnBDIDNwI5AT0AR/9Z/nX9nPzN+wb7RPqG+cn4DvhX96b2APZo9eH0bfQM9L7zfvNL8yLz//Li8szyvvK78sXy3/IL80rzmfP282D00fRH9cD1Pfa99kL3z/dl+Af5s/lq+ir77/u3/H/9RP4H/8b/ggA+AfwBvAJ+A0QECgXPBZAGSwf9B6YIRQnbCWgK7wpvC+oLYAzODDQNjw3dDRwOSQ5kDmwOXw4+DgcOvA1cDegMYgzNCywLggrRCRoJXAiYB8sG9QUTBScEMgM3AjkBPQBH/1n+df2c/M37BvtE+ob5yfgO+Ff3pvYA9mj14fRt9Az0vvN+80vzIvP/8uLyzPK+8rvyxfLf8gvzSvOZ8/bzYPTR9Ef1wPU99r32QvfP92X4B/mz+Wr6Kvvv+7f8f/1E/gf/xv+CAD4B/AG8An4DRAQKBc8FkAZLB/0HpghFCdsJaArvCm8L6gtgDM4MNA2PDd0NHA5JDmQObA5fDj4OBw68DVwN6AxiDM0LLAuCCtEJGglcCJgHywb1BRMFJwQyAzcCOQE9AEf/Wf51/Zz8zfsG+0T6hvnJ+A74V/em9gD2aPXh9G30DPS+837zS/Mi8//y4vLM8r7yu/LF8t/yC/NK85nz9vNg9NH0R/XA9T32vfZC98/3ZfgH+bP5avoq++/7t/x//UT+B//G/4IAPgH8AbwCfgNEBAoFzwWQBksH/QemCEUJ2wloCu8KbwvqC2AMzgw0DY8N3Q0cDkkOZA5sDl8OPg4HDrwNXA3oDGIMzQssC4IK0QkaCVwImAfLBvUFEwUnBDIDNwI5AT0AR/9Z/nX9nPzN+wb7RPqG+cn4DvhX96b2APZo9eH0bfQM9L7zfvNL8yLz//Li8szyvvK78sXy3/IL80rzmfP282D00fRH9cD1Pfa99kL3z/dl+Af5s/lq+ir77/u3/H/9RP4H/8b/ggA+AfwBvAJ+A0QECgXPBZAGSwf9B6YIRQnbCWgK7wpvC+oLYAzODDQNjw3dDRwOSQ5kDmwOXw4+DgcOvA1cDegMYgzNCywLggrRCRoJXAiYB8sG9QUTBScEMgM3AjkBPQBH/1n+df2c/M37BvtE+ob5yfgO+Ff3pvYA9mj14fRt9Az0vvN+80vzIvP/8uLyzPK+8rvyxfLf8gvzSvOZ8/bzYPTR9Ef1wPU99r32QvfP92X4B/mz+Wr6Kvvv+7f8f/1E/gf/xv+CAD4B/AG8An4DRAQKBc8FkAZLB/0HpghFCdsJaArvCm8L6gtgDM4MNA2PDd0NHA5JDmQObA5fDj4OBw68DVwN6AxiDM0LLAuCCtEJGglcCJgHywb1BRMFJwQyAzcCOQE9AEf/Wf51/Zz8zfsG+0T6hvnJ+A74V/em9gD2aPXh9G30DPS+837zS/Mi8//y4vLM8r7yu/LF8t/yC/NK85nz9vNg9NH0R/XA9T32vfZC98/3ZfgH+bP5avoq++/7t/x//UT+B//G/4IAPgH8AbwCfgNEBAoFzwWQBksH/QemCEUJ2wloCu8KbwvqC2AMzgw0DY8N3Q0cDkkOZA5sDl8OPg4HDrwNXA3oDGIMzQssC4IK0QkaCVwImAfLBvUFEwUnBDIDNwI5AT0AR/9Z/nX9nPzN+wb7RPqG+cn4DvhX96b2APZo9eH0bfQM9L7zfvNL8yLz//Li8szyvvK78sXy3/IL80rzmfP282D00fRH9cD1Pfa99kL3z/dl+Af5s/lq+ir77/u3/H/9RP4H/8b/ggA+AfwBvAJ+A0QECgXPBZAGSwf9B6YIRQnbCWgK7wpvC+oLYAzODDQNjw3dDRwOSQ5kDmwOXw4+DgcOvA1cDegMYgzNCywLggrRCRoJXAiYB8sG9QUTBScEMgM3AjkBPQBH/1n+df2c/M37BvtE+ob5yfgO+Ff3pvYA9mj14fRt9Az0vvN+80vzIvP/8uLyzPK+8rvyxfLf8gvzSvOZ8/bzYPTR9Ef1wPU99r32QvfP92X4B/mz+Wr6Kvvv+7f8f/1E/gf/xv+CAD4B/AG8An4DRAQKBc8FkAZLB/0HpghFCdsJaArvCm8L6gtgDM4MNA2PDd0NHA5JDmQObA5fDj4OBw68DVwN6AxiDM0LLAuCCtEJGglcCJgHywb1BRMFJwQyAzcCOQE9AEf/Wf51/Zz8zfsG+0T6hvnJ+A74V/em9gD2aPXh9G30DPS+837zS/Mi8//y4vLM8r7yu/LF8t/yC/NK85nz9vNg9NH0R/XA9T32vfZC98/3ZfgH+bP5avoq++/7t/x//UT+B//G/4IAPgH8AbwCfgNEBAoFzwWQBksH/QemCEUJ2wloCu8KbwvqC2AMzgw0DY8N3Q0cDkkOZA5sDl8OPg4HDrwNXA3oDGIMzQssC4IK0QkaCVwImAfLBvUFEwUnBDIDNwI5AT0AR/9Z/nX9nPzN+wb7RPqG+cn4DvhX96b2APZo9eH0bfQM9L7zfvNL8yLz//Li8szyvvK78sXy3/IL80rzmfP282D00fRH9cD1Pfa99kL3z/dl+Af5s/lq+ir77/u3/H/9RP4H/8b/ggA+AfwBvAJ+A0QECgXPBZAGSwf9B6YIRQnbCWgK7wpvC+oLYAzODDQNjw3dDRwOSQ5kDmwOXw4+DgcOvA1cDegMYgzNCywLggrRCRoJXAiYB8sG9QUTBScEMgM3AjkBPQBH/1n+df2c/M37BvtE+ob5yfgO+Ff3pvYA9mj14fRt9Az0vvN+80vzIvP/8uLyzPK+8rvyxfLf8gvzSvOZ8/bzYPTR9Ef1wPU99r32QvfP92X4B/mz+Wr6Kvvv+7f8f/1E/gf/xv+CAD4B/AG8An4DRAQKBc8FkAZLB/0HpghFCdsJaArvCm8L6gtgDM4MNA2PDd0NHA5JDmQObA5fDj4OBw68DVwN6AxiDM0LLAuCCtEJGglcCJgHywb1BRMFJwQyAzcCOQE9AEf/Wf51/Zz8zfsG+0T6hvnJ+A74V/em9gD2aPXh9G30DPS+837zS/Mi8//y4vLM8r7yu/LF8t/yC/NK85nz9vNg9NH0R/XA9T32vfZC98/3ZfgH+bP5avoq++/7t/x//UT+B//G/4IAPgH8AbwCfgNEBAoFzwWQBksH/QemCEUJ2wloCu8KbwvqC2AMzgw0DY8N3Q0cDkkOZA5sDl8OPg4HDrwNXA3oDGIMzQssC4IK0QkaCVwImAfLBvUFEwUnBDIDNwI5AT0AR/9Z/nX9nPzN+wb7RPqG+cn4DvhX96b2APZo9eH0bfQM9L7zfvNL8yLz//Li8szyvvK78sXy3/IL80rzmfP282D00fRH9cD1Pfa99kL3z/dl+Af5s/lq+ir77/u3/H/9RP4H/8b/ggA+AfwBvAJ+A0QECgXPBZAGSwf9B6YIRQnbCWgK7wpvC+oLYAzODDQNjw3dDRwOSQ5kDmwOXw4+DgcOvA1cDegMYgzNCywLggrRCRoJXAiYB8sG9QUTBScEMgM3AjkBPQBH/1n+df2c/M37BvtE+ob5yfgO+Ff3pvYA9mj14fRt9Az0vvN+80vzIvP/8uLyzPK+8rvyxfLf8gvzSvOZ8/bzYPTR9Ef1wPU99r32QvfP92X4B/mz+Wr6Kvvv+7f8f/1E/gf/xv+CAD4B/AG8An4DRAQKBc8FkAZLB/0HpghFCdsJaArvCm8L6gtgDM4MNA2PDd0NHA5JDmQObA5fDj4OBw68DVwN6AxiDM0LLAuCCtEJGglcCJgHywb1BRMFJwQyAzcCOQE9AEf/Wf51/Zz8zfsG+0T6hvnJ+A74V/em9gD2aPXh9G30DPS+837zS/Mi8//y4vLM8r7yu/LF8t/yC/NK85nz9vNg9NH0R/XA9T32vfZC98/3ZfgH+bP5avoq++/7t/x//UT+B//G/4IAPgH8AbwCfgNEBAoFzwWQBksH/QemCEUJ2wloCu8KbwvqC2AMzgw0DY8N3Q0cDkkOZA5sDl8OPg4HDrwNXA3oDGIMzQssC4IK0QkaCVwImAfLBvUFEwUnBDIDNwI5AT0AR/9Z/nX9nPzN+wb7RPqG+cn4DvhX96b2APZo9eH0bfQM9L7zfvNL8yLz//Li8szyvvK78sXy3/IL80rzmfP282D00fRH9cD1Pfa99kL3z/dl+Af5s/lq+ir77/u3/H/9RP4H/8b/ggA+AfwBvAJ+A0QECgXPBZAGSwf9B6YIRQnbCWgK7wpvC+oLYAzODDQNjw3dDRwOSQ5kDmwOXw4+DgcOvA1cDegMYgzNCywLggrRCRoJXAiYB8sG9QUTBScEMgM3AjkBPQBH/1n+df2c/M37BvtE+ob5yfgO+Ff3pvYA9mj14fRt9Az0vvN+80vzIvP/8uLyzPK+8rvyxfLf8gvzSvOZ8/bzYPTR9Ef1wPU99r32QvfP92X4B/mz+Wr6Kvvv+7f8f/1E/gf/xv+CAD4B/AG8An4DRAQKBc8FkAZLB/0HpghFCdsJaArvCm8L6gtgDM4MNA2PDd0NHA5JDmQObA5fDj4OBw68DVwN6AxiDM0LLAuCCtEJGglcCJgHywb1BRMFJwQyAzcCOQE9AEf/Wf51/Zz8zfsG+0T6hvnJ+A74V/em9gD2aPXh9G30DPS+837zS/Mi8//y4vLM8r7yu/LF8t/yC/NK85nz9vNg9NH0R/XA9T32vfZC98/3ZfgH+bP5avoq++/7t/x//UT+B//G/4IAPgH8AbwCfgNEBAoFzwWQBksH/QemCEUJ2wloCu8KbwvqC2AMzgw0DY8N3Q0cDkkOZA5sDl8OPg4HDrwNXA3oDGIMzQssC4IK0QkaCVwImAfLBvUFEwUnBDIDNwI5AT0AR/9Z/nX9nPzN+wb7RPqG+cn4DvhX96b2APZo9eH0bfQM9L7zfvNL8yLz//Li8szyvvK78sXy3/IL80rzmfP282D00fRH9cD1Pfa99kL3z/dl+Af5s/lq+ir77/u3/H/9RP4H/8b/ggA+AfwBvAJ+A0QECgXPBZAGSwf9B6YIRQnbCWgK7wpvC+oLYAzODDQNjw3dDRwOSQ5kDmwOXw4+DgcOvA1cDegMYgzNCywLggrRCRoJXAiYB8sG9QUTBScEMgM3AjkBPQBH/1n+df2c/M37BvtE+ob5yfgO+Ff3pvYA9mj14fRt9Az0vvN+80vzIvP/8uLyzPK+8rvyxfLf8gvzSvOZ8/bzYPTR9Ef1wPU99r32QvfP92X4B/mz+Wr6Kvvv+7f8f/1E/gf/xv+CAD4B/AG8An4DRAQKBc8FkAZLB/0HpghFCdsJaArvCm8L6gtgDM4MNA2PDd0NHA5JDmQObA5fDj4OBw68DVwN6AxiDM0LLAuCCtEJGglcCJgHywb1BRMFJwQyAzcCOQE9AEf/Wf51/Zz8zfsG+0T6hvnJ+A74V/em9gD2aPXh9G30DPS+837zS/Mi8//y4vLM8r7yu/LF8t/yC/NK85nz9vNg9NH0R/XA9T32vfZC98/3ZfgH+bP5avoq++/7t/x//UT+B//G/4IAPgH8AbwCfgNEBAoFzwWQBksH/QemCEUJ2wloCu8KbwvqC2AMzgw0DY8N3Q0cDkkOZA5sDl8OPg4HDrwNXA3oDGIMzQssC4IK0QkaCVwImAfLBvUFEwUnBDIDNwI5AT0AR/9Z/nX9nPzN+wb7RPqG+cn4DvhX96b2APZo9eH0bfQM9L7zfvNL8yLz//Li8szyvvK78sXy3/IL80rzmfP282D00fRH9cD1Pfa99kL3z/dl+Af5s/lq+ir77/u3/H/9RP4H/8b/ggA+AfwBvAJ+A0QECgXPBZAGSwf9B6YIRQnbCWgK7wpvC+oLYAzODDQNjw3dDRwOSQ5kDmwOXw4+DgcOvA1cDegMYgzNCywLggrRCRoJXAiYB8sG9QUTBScEMgM3AjkBPQBH/1n+df2c/M37BvtE+ob5yfgO+Ff3pvYA9mj14fRt9Az0vvN+80vzIvP/8uLyzPK+8rvyxfLf8gvzSvOZ8/bzYPTR9Ef1wPU99r32QvfP92X4B/mz+Wr6Kvvv+7f8f/1E/gf/xv+CAD4B/AG8An4DRAQKBc8FkAZLB/0HpghFCdsJaArvCm8L6gtgDM4MNA2PDd0NHA5JDmQObA5fDj4OBw68DVwN6AxiDM0LLAuCCtEJGglcCJgHywb1BRMFJwQyAzcCOQE9AEf/Wf51/Zz8zfsG+0T6hvnJ+A74V/em9gD2aPXh9G30DPS+837zS/Mi8//y4vLM8r7yu/LF8t/yC/NK85nz9vNg9NH0R/XA9T32vfZC98/3ZfgH+bP5avoq++/7t/x//UT+B//G/4IAPgH8AbwCfgNEBAoFzwWQBksH/QemCEUJ2wloCu8KbwvqC2AMzgw0DY8N3Q0cDkkOZA5sDl8OPg4HDrwNXA3oDGIMzQssC4IK0QkaCVwImAfLBvUFEwUnBDIDNwI5AT0AR/9Z/nX9nPzN+wb7RPqG+cn4DvhX96b2APZo9eH0bfQM9L7zfvNL8yLz//Li8szyvvK78sXy3/IL80rzmfP282D00fRH9cD1Pfa99kL3z/dl+Af5s/lq+ir77/u3/H/9RP4H/8b/ggA+AfwBvAJ+A0QECgXPBZAGSwf9B6YIRQnbCWgK7wpvC+oLYAzODDQNjw3dDRwOSQ5kDmwOXw4+DgcOvA1cDegMYgzNCywLggrRCRoJXAiYB8sG9QUTBScEMgM3AjkBPQBH/1n+df2c/M37BvtE+ob5yfgO+Ff3pvYA9mj14fRt9Az0vvN+80vzIvP/8uLyzPK+8rvyxfLf8gvzSvOZ8/bzYPTR9Ef1wPU99r32QvfP92X4B/mz+Wr6Kvvv+7f8f/1E/gf/xv+CAD4B/AG8An4DRAQKBc8FkAZLB/0HpghFCdsJaArvCm8L6gtgDM4MNA2PDd0NHA5JDmQObA5fDj4OBw68DVwN6AxiDM0LLAuCCtEJGglcCJgHywb1BRMFJwQyAzcCOQE9AEf/Wf51/Zz8zfsG+0T6hvnJ+A74V/em9gD2aPXh9G30DPS+837zS/Mi8//y4vLM8r7yu/LF8t/yC/NK85nz9vNg9NH0R/XA9T32vfZC98/3ZfgH+bP5avoq++/7t/x//UT+B//G/4IAPgH8AbwCfgNEBAoFzwWQBksH/QemCEUJ2wloCu8KbwvqC2AMzgw0DY8N3Q0cDkkOZA5sDl8OPg4HDrwNXA3oDGIMzQssC4IK0QkaCVwImAfLBvUFEwUnBDIDNwI5AT0AR/9Z/nX9nPzN+wb7RPqG+cn4DvhX96b2APZo9eH0bfQM9L7zfvNL8yLz//Li8szyvvK78sXy3/IL80rzmfP282D00fRH9cD1Pfa99kL3z/dl+Af5s/lq+ir77/u3/H/9RP4H/8b/ggA+AfwBvAJ+A0QECgXPBZAGSwf9B6YIRQnbCWgK7wpvC+oLYAzODDQNjw3dDRwOSQ5kDmwOXw4+DgcOvA1cDegMYgzNCywLggrRCRoJXAiYB8sG9QUTBScEMgM3AjkBPQBH/1n+df2c/M37BvtE+ob5yfgO+Ff3pvYA9mj14fRt9Az0vvN+80vzIvP/8uLyzPK+8rvyxfLf8gvzSvOZ8/bzYPTR9Ef1wPU99r32QvfP92X4B/mz+Wr6Kvvv+7f8f/1E/gf/xv+CAD4B/AG8An4DRAQKBc8FkAZLB/0HpghFCdsJaArvCm8L6gtgDM4MNA2PDd0NHA5JDmQObA5fDj4OBw68DVwN6AxiDM0LLAuCCtEJGglcCJgHywb1BRMFJwQyAzcCOQE9AEf/Wf51/Zz8zfsG+0T6hvnJ+A74V/em9gD2aPXh9G30DPS+837zS/Mi8//y4vLM8r7yu/LF8t/yC/NK85nz9vNg9NH0R/XA9T32vfZC98/3ZfgH+bP5avoq++/7t/x//UT+B//G/4IAPgH8AbwCfgNEBAoFzwWQBksH/QemCEUJ2wloCu8KbwvqC2AMzgw0DY8N3Q0cDkkO\" type=\"audio/wav\" />\n",
              "                    Your browser does not support the audio element.\n",
              "                </audio>\n",
              "              "
            ],
            "text/plain": [
              "<IPython.lib.display.Audio object>"
            ]
          },
          "metadata": {
            "tags": []
          },
          "execution_count": 36
        }
      ]
    },
    {
      "cell_type": "code",
      "metadata": {
        "id": "PB7nJSEd2jj4",
        "colab": {
          "base_uri": "https://localhost:8080/",
          "height": 74
        },
        "outputId": "97af5091-dc79-491d-ed97-5ae8993bc188"
      },
      "source": [
        "RG = 3781\n",
        "BWG = 250\n",
        "a, b=resonance(sr,RG,BWG)\n",
        "s = lfilter(b, a, s, axis=0)\n",
        "ipd.Audio(s, rate=sr)"
      ],
      "execution_count": null,
      "outputs": [
        {
          "output_type": "execute_result",
          "data": {
            "text/html": [
              "\n",
              "                <audio controls=\"controls\" >\n",
              "                    <source src=\"data:audio/wav;base64,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\" type=\"audio/wav\" />\n",
              "                    Your browser does not support the audio element.\n",
              "                </audio>\n",
              "              "
            ],
            "text/plain": [
              "<IPython.lib.display.Audio object>"
            ]
          },
          "metadata": {
            "tags": []
          },
          "execution_count": 37
        }
      ]
    },
    {
      "cell_type": "code",
      "metadata": {
        "id": "repRiH4B2AOI",
        "colab": {
          "base_uri": "https://localhost:8080/",
          "height": 74
        },
        "outputId": "22abbdd2-6a4d-4975-9d5d-e0fd2927350b"
      },
      "source": [
        "s = lfilter(np.array([1, -1]), np.array([1]), s)    # 입술이 소리를 증폭시킴\n",
        "ipd.Audio(s, rate=sr)"
      ],
      "execution_count": null,
      "outputs": [
        {
          "output_type": "execute_result",
          "data": {
            "text/html": [
              "\n",
              "                <audio controls=\"controls\" >\n",
              "                    <source src=\"data:audio/wav;base64,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\" type=\"audio/wav\" />\n",
              "                    Your browser does not support the audio element.\n",
              "                </audio>\n",
              "              "
            ],
            "text/plain": [
              "<IPython.lib.display.Audio object>"
            ]
          },
          "metadata": {
            "tags": []
          },
          "execution_count": 38
        }
      ]
    },
    {
      "cell_type": "code",
      "metadata": {
        "id": "luKXjwnfEeYQ",
        "outputId": "0462d335-adf3-4859-82c9-116d35f86a37",
        "colab": {
          "resources": {
            "http://localhost:8080/nbextensions/google.colab/files.js": {
              "data": "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",
              "ok": true,
              "headers": [
                [
                  "content-type",
                  "application/javascript"
                ]
              ],
              "status": 200,
              "status_text": ""
            }
          },
          "base_uri": "https://localhost:8080/",
          "height": 76
        }
      },
      "source": [
        "from google.colab import files\n",
        "!rm *.wav                       # wav로 끝나는 모든 파일을 없애라\n",
        "tmp = files.upload()\n",
        "fn = list(tmp)[0]               # tmp를 dict에서 list로 바꿔주고 파일에 접근"
      ],
      "execution_count": 14,
      "outputs": [
        {
          "output_type": "display_data",
          "data": {
            "text/html": [
              "\n",
              "     <input type=\"file\" id=\"files-3c869132-c498-4278-9dbe-9e8dc0f26771\" name=\"files[]\" multiple disabled\n",
              "        style=\"border:none\" />\n",
              "     <output id=\"result-3c869132-c498-4278-9dbe-9e8dc0f26771\">\n",
              "      Upload widget is only available when the cell has been executed in the\n",
              "      current browser session. Please rerun this cell to enable.\n",
              "      </output>\n",
              "      <script src=\"/nbextensions/google.colab/files.js\"></script> "
            ],
            "text/plain": [
              "<IPython.core.display.HTML object>"
            ]
          },
          "metadata": {
            "tags": []
          }
        },
        {
          "output_type": "stream",
          "text": [
            "Saving a.wav to a.wav\n"
          ],
          "name": "stdout"
        }
      ]
    },
    {
      "cell_type": "code",
      "metadata": {
        "id": "Z1rZxf-hF0EH"
      },
      "source": [
        "from scipy.io import wavfile\n",
        "sr, s = wavfile.read(fn)      # sr: sampling rate, s: signal\n",
        "nSamp = len(s)\n",
        "dur = nSamp / sr              # sr- 10000, len(s)- 4370, dur- 0.437\n",
        "t = np.linspace(1/sr, dur, nSamp)"
      ],
      "execution_count": 19,
      "outputs": []
    },
    {
      "cell_type": "markdown",
      "metadata": {
        "id": "VSUAxc_0IlD8"
      },
      "source": [
        "a 파일을 분석하기 위해\n",
        "\n",
        "길이가 같은 0.437초짜리 complex phasor를 만듦\n",
        "\n",
        "최고주파는 Sampling rate과 같게\n",
        "\n",
        "최저주파는 Sampling rate/512"
      ]
    },
    {
      "cell_type": "code",
      "metadata": {
        "id": "_SWLsE5ZLDud"
      },
      "source": [
        "def phasor_complex(amp, sr, dur, freq):\n",
        "\n",
        "  t = np.arrange(1, sr * dur+1)/sr\n",
        "  theta = t * 2*np.pi * freq\n",
        "  c = amp * np.exp(theta*1j)\n",
        "\n",
        "  return c, t, theta"
      ],
      "execution_count": 40,
      "outputs": []
    },
    {
      "cell_type": "code",
      "metadata": {
        "id": "ozVjCJNTH4vT",
        "outputId": "d04bf48f-e69d-40d8-e2b2-50ccabe9d23a",
        "colab": {
          "base_uri": "https://localhost:8080/",
          "height": 386
        }
      },
      "source": [
        "nFFT = 512                    # 숫자의 개수(0.437초의 등분)\n",
        "freq = [];\n",
        "amp = [];\n",
        "for n in range(1,nFFT+1):\n",
        "  freq.append(sr*n/512)       # 첫 번째는 10000*1/512, 마지막은 10000\n",
        "                              # .append: 숫자를 쌓아서 저장\n",
        "  c, t, theta = phasor_complex(1, sr, dur, freq[-1])\n",
        "  amp.append(np.abs(np.dot(s,c)))\n",
        "                              # abs: 절댓값, complex plain상에서 벡터의 길이\n",
        "                              # dot product s는 위의 signal, c는 complex phasor의 값"
      ],
      "execution_count": 44,
      "outputs": [
        {
          "output_type": "error",
          "ename": "AttributeError",
          "evalue": "ignored",
          "traceback": [
            "\u001b[0;31m---------------------------------------------------------------------------\u001b[0m",
            "\u001b[0;31mAttributeError\u001b[0m                            Traceback (most recent call last)",
            "\u001b[0;32m<ipython-input-44-911ad0eb5a4b>\u001b[0m in \u001b[0;36m<module>\u001b[0;34m()\u001b[0m\n\u001b[1;32m      6\u001b[0m   \u001b[0mfreq\u001b[0m\u001b[0;34m.\u001b[0m\u001b[0mappend\u001b[0m\u001b[0;34m(\u001b[0m\u001b[0msr\u001b[0m\u001b[0;34m*\u001b[0m\u001b[0mn\u001b[0m\u001b[0;34m/\u001b[0m\u001b[0;36m512\u001b[0m\u001b[0;34m)\u001b[0m       \u001b[0;31m# 첫 번째는 10000*1/512, 마지막은 10000\u001b[0m\u001b[0;34m\u001b[0m\u001b[0;34m\u001b[0m\u001b[0m\n\u001b[1;32m      7\u001b[0m                               \u001b[0;31m# .append: 숫자를 쌓아서 저장\u001b[0m\u001b[0;34m\u001b[0m\u001b[0;34m\u001b[0m\u001b[0;34m\u001b[0m\u001b[0m\n\u001b[0;32m----> 8\u001b[0;31m   \u001b[0mc\u001b[0m\u001b[0;34m,\u001b[0m \u001b[0mt\u001b[0m\u001b[0;34m,\u001b[0m \u001b[0mtheta\u001b[0m \u001b[0;34m=\u001b[0m \u001b[0mphasor_complex\u001b[0m\u001b[0;34m(\u001b[0m\u001b[0;36m1\u001b[0m\u001b[0;34m,\u001b[0m \u001b[0msr\u001b[0m\u001b[0;34m,\u001b[0m \u001b[0mdur\u001b[0m\u001b[0;34m,\u001b[0m \u001b[0mfreq\u001b[0m\u001b[0;34m[\u001b[0m\u001b[0;34m-\u001b[0m\u001b[0;36m1\u001b[0m\u001b[0;34m]\u001b[0m\u001b[0;34m)\u001b[0m\u001b[0;34m\u001b[0m\u001b[0;34m\u001b[0m\u001b[0m\n\u001b[0m\u001b[1;32m      9\u001b[0m   \u001b[0mamp\u001b[0m\u001b[0;34m.\u001b[0m\u001b[0mappend\u001b[0m\u001b[0;34m(\u001b[0m\u001b[0mnp\u001b[0m\u001b[0;34m.\u001b[0m\u001b[0mabs\u001b[0m\u001b[0;34m(\u001b[0m\u001b[0mnp\u001b[0m\u001b[0;34m.\u001b[0m\u001b[0mdot\u001b[0m\u001b[0;34m(\u001b[0m\u001b[0ms\u001b[0m\u001b[0;34m,\u001b[0m\u001b[0mc\u001b[0m\u001b[0;34m)\u001b[0m\u001b[0;34m)\u001b[0m\u001b[0;34m)\u001b[0m\u001b[0;34m\u001b[0m\u001b[0;34m\u001b[0m\u001b[0m\n\u001b[1;32m     10\u001b[0m                               \u001b[0;31m# abs: 절댓값, complex plain상에서 벡터의 길이\u001b[0m\u001b[0;34m\u001b[0m\u001b[0;34m\u001b[0m\u001b[0;34m\u001b[0m\u001b[0m\n",
            "\u001b[0;32m<ipython-input-40-8c36517a115a>\u001b[0m in \u001b[0;36mphasor_complex\u001b[0;34m(amp, sr, dur, freq)\u001b[0m\n\u001b[1;32m      1\u001b[0m \u001b[0;32mdef\u001b[0m \u001b[0mphasor_complex\u001b[0m\u001b[0;34m(\u001b[0m\u001b[0mamp\u001b[0m\u001b[0;34m,\u001b[0m \u001b[0msr\u001b[0m\u001b[0;34m,\u001b[0m \u001b[0mdur\u001b[0m\u001b[0;34m,\u001b[0m \u001b[0mfreq\u001b[0m\u001b[0;34m)\u001b[0m\u001b[0;34m:\u001b[0m\u001b[0;34m\u001b[0m\u001b[0;34m\u001b[0m\u001b[0m\n\u001b[1;32m      2\u001b[0m \u001b[0;34m\u001b[0m\u001b[0m\n\u001b[0;32m----> 3\u001b[0;31m   \u001b[0mt\u001b[0m \u001b[0;34m=\u001b[0m \u001b[0mnp\u001b[0m\u001b[0;34m.\u001b[0m\u001b[0marrange\u001b[0m\u001b[0;34m(\u001b[0m\u001b[0;36m1\u001b[0m\u001b[0;34m,\u001b[0m \u001b[0msr\u001b[0m \u001b[0;34m*\u001b[0m \u001b[0mdur\u001b[0m\u001b[0;34m+\u001b[0m\u001b[0;36m1\u001b[0m\u001b[0;34m)\u001b[0m\u001b[0;34m/\u001b[0m\u001b[0msr\u001b[0m\u001b[0;34m\u001b[0m\u001b[0;34m\u001b[0m\u001b[0m\n\u001b[0m\u001b[1;32m      4\u001b[0m   \u001b[0mtheta\u001b[0m \u001b[0;34m=\u001b[0m \u001b[0mt\u001b[0m \u001b[0;34m*\u001b[0m \u001b[0;36m2\u001b[0m\u001b[0;34m*\u001b[0m\u001b[0mnp\u001b[0m\u001b[0;34m.\u001b[0m\u001b[0mpi\u001b[0m \u001b[0;34m*\u001b[0m \u001b[0mfreq\u001b[0m\u001b[0;34m\u001b[0m\u001b[0;34m\u001b[0m\u001b[0m\n\u001b[1;32m      5\u001b[0m   \u001b[0mc\u001b[0m \u001b[0;34m=\u001b[0m \u001b[0mamp\u001b[0m \u001b[0;34m*\u001b[0m \u001b[0mnp\u001b[0m\u001b[0;34m.\u001b[0m\u001b[0mexp\u001b[0m\u001b[0;34m(\u001b[0m\u001b[0mtheta\u001b[0m\u001b[0;34m*\u001b[0m\u001b[0;36m1j\u001b[0m\u001b[0;34m)\u001b[0m\u001b[0;34m\u001b[0m\u001b[0;34m\u001b[0m\u001b[0m\n",
            "\u001b[0;32m/usr/local/lib/python3.7/dist-packages/numpy/__init__.py\u001b[0m in \u001b[0;36m__getattr__\u001b[0;34m(attr)\u001b[0m\n\u001b[1;32m    213\u001b[0m             \u001b[0;32melse\u001b[0m\u001b[0;34m:\u001b[0m\u001b[0;34m\u001b[0m\u001b[0;34m\u001b[0m\u001b[0m\n\u001b[1;32m    214\u001b[0m                 raise AttributeError(\"module {!r} has no attribute \"\n\u001b[0;32m--> 215\u001b[0;31m                                      \"{!r}\".format(__name__, attr))\n\u001b[0m\u001b[1;32m    216\u001b[0m \u001b[0;34m\u001b[0m\u001b[0m\n\u001b[1;32m    217\u001b[0m         \u001b[0;32mdef\u001b[0m \u001b[0m__dir__\u001b[0m\u001b[0;34m(\u001b[0m\u001b[0;34m)\u001b[0m\u001b[0;34m:\u001b[0m\u001b[0;34m\u001b[0m\u001b[0;34m\u001b[0m\u001b[0m\n",
            "\u001b[0;31mAttributeError\u001b[0m: module 'numpy' has no attribute 'arrange'"
          ]
        }
      ]
    },
    {
      "cell_type": "code",
      "metadata": {
        "id": "4peB7kgmOKQ1",
        "outputId": "0b6a95d8-02a6-4596-c740-4285d07f20de",
        "colab": {
          "base_uri": "https://localhost:8080/",
          "height": 638
        }
      },
      "source": [
        "fig = plt.figure()\n",
        "ax = fig.add_subplot(111)\n",
        "ax.plot(freq, amp)\n",
        "ax.set_xlabel('freqency (Hz)')\n",
        "ax.set_ylabel('amplitude')"
      ],
      "execution_count": 34,
      "outputs": [
        {
          "output_type": "error",
          "ename": "ValueError",
          "evalue": "ignored",
          "traceback": [
            "\u001b[0;31m---------------------------------------------------------------------------\u001b[0m",
            "\u001b[0;31mValueError\u001b[0m                                Traceback (most recent call last)",
            "\u001b[0;32m<ipython-input-34-74c244d2e2e4>\u001b[0m in \u001b[0;36m<module>\u001b[0;34m()\u001b[0m\n\u001b[1;32m      1\u001b[0m \u001b[0mfig\u001b[0m \u001b[0;34m=\u001b[0m \u001b[0mplt\u001b[0m\u001b[0;34m.\u001b[0m\u001b[0mfigure\u001b[0m\u001b[0;34m(\u001b[0m\u001b[0;34m)\u001b[0m\u001b[0;34m\u001b[0m\u001b[0;34m\u001b[0m\u001b[0m\n\u001b[1;32m      2\u001b[0m \u001b[0max\u001b[0m \u001b[0;34m=\u001b[0m \u001b[0mfig\u001b[0m\u001b[0;34m.\u001b[0m\u001b[0madd_subplot\u001b[0m\u001b[0;34m(\u001b[0m\u001b[0;36m111\u001b[0m\u001b[0;34m)\u001b[0m\u001b[0;34m\u001b[0m\u001b[0;34m\u001b[0m\u001b[0m\n\u001b[0;32m----> 3\u001b[0;31m \u001b[0max\u001b[0m\u001b[0;34m.\u001b[0m\u001b[0mplot\u001b[0m\u001b[0;34m(\u001b[0m\u001b[0mfreq\u001b[0m\u001b[0;34m,\u001b[0m \u001b[0mamp\u001b[0m\u001b[0;34m)\u001b[0m\u001b[0;34m\u001b[0m\u001b[0;34m\u001b[0m\u001b[0m\n\u001b[0m\u001b[1;32m      4\u001b[0m \u001b[0max\u001b[0m\u001b[0;34m.\u001b[0m\u001b[0mset_xlabel\u001b[0m\u001b[0;34m(\u001b[0m\u001b[0;34m'freqency (Hz)'\u001b[0m\u001b[0;34m)\u001b[0m\u001b[0;34m\u001b[0m\u001b[0;34m\u001b[0m\u001b[0m\n\u001b[1;32m      5\u001b[0m \u001b[0max\u001b[0m\u001b[0;34m.\u001b[0m\u001b[0mset_ylabel\u001b[0m\u001b[0;34m(\u001b[0m\u001b[0;34m'amplitude'\u001b[0m\u001b[0;34m)\u001b[0m\u001b[0;34m\u001b[0m\u001b[0;34m\u001b[0m\u001b[0m\n",
            "\u001b[0;32m/usr/local/lib/python3.7/dist-packages/matplotlib/axes/_axes.py\u001b[0m in \u001b[0;36mplot\u001b[0;34m(self, scalex, scaley, data, *args, **kwargs)\u001b[0m\n\u001b[1;32m   1645\u001b[0m         \"\"\"\n\u001b[1;32m   1646\u001b[0m         \u001b[0mkwargs\u001b[0m \u001b[0;34m=\u001b[0m \u001b[0mcbook\u001b[0m\u001b[0;34m.\u001b[0m\u001b[0mnormalize_kwargs\u001b[0m\u001b[0;34m(\u001b[0m\u001b[0mkwargs\u001b[0m\u001b[0;34m,\u001b[0m \u001b[0mmlines\u001b[0m\u001b[0;34m.\u001b[0m\u001b[0mLine2D\u001b[0m\u001b[0;34m)\u001b[0m\u001b[0;34m\u001b[0m\u001b[0;34m\u001b[0m\u001b[0m\n\u001b[0;32m-> 1647\u001b[0;31m         \u001b[0mlines\u001b[0m \u001b[0;34m=\u001b[0m \u001b[0;34m[\u001b[0m\u001b[0;34m*\u001b[0m\u001b[0mself\u001b[0m\u001b[0;34m.\u001b[0m\u001b[0m_get_lines\u001b[0m\u001b[0;34m(\u001b[0m\u001b[0;34m*\u001b[0m\u001b[0margs\u001b[0m\u001b[0;34m,\u001b[0m \u001b[0mdata\u001b[0m\u001b[0;34m=\u001b[0m\u001b[0mdata\u001b[0m\u001b[0;34m,\u001b[0m \u001b[0;34m**\u001b[0m\u001b[0mkwargs\u001b[0m\u001b[0;34m)\u001b[0m\u001b[0;34m]\u001b[0m\u001b[0;34m\u001b[0m\u001b[0;34m\u001b[0m\u001b[0m\n\u001b[0m\u001b[1;32m   1648\u001b[0m         \u001b[0;32mfor\u001b[0m \u001b[0mline\u001b[0m \u001b[0;32min\u001b[0m \u001b[0mlines\u001b[0m\u001b[0;34m:\u001b[0m\u001b[0;34m\u001b[0m\u001b[0;34m\u001b[0m\u001b[0m\n\u001b[1;32m   1649\u001b[0m             \u001b[0mself\u001b[0m\u001b[0;34m.\u001b[0m\u001b[0madd_line\u001b[0m\u001b[0;34m(\u001b[0m\u001b[0mline\u001b[0m\u001b[0;34m)\u001b[0m\u001b[0;34m\u001b[0m\u001b[0;34m\u001b[0m\u001b[0m\n",
            "\u001b[0;32m/usr/local/lib/python3.7/dist-packages/matplotlib/axes/_base.py\u001b[0m in \u001b[0;36m__call__\u001b[0;34m(self, *args, **kwargs)\u001b[0m\n\u001b[1;32m    214\u001b[0m                 \u001b[0mthis\u001b[0m \u001b[0;34m+=\u001b[0m \u001b[0margs\u001b[0m\u001b[0;34m[\u001b[0m\u001b[0;36m0\u001b[0m\u001b[0;34m]\u001b[0m\u001b[0;34m,\u001b[0m\u001b[0;34m\u001b[0m\u001b[0;34m\u001b[0m\u001b[0m\n\u001b[1;32m    215\u001b[0m                 \u001b[0margs\u001b[0m \u001b[0;34m=\u001b[0m \u001b[0margs\u001b[0m\u001b[0;34m[\u001b[0m\u001b[0;36m1\u001b[0m\u001b[0;34m:\u001b[0m\u001b[0;34m]\u001b[0m\u001b[0;34m\u001b[0m\u001b[0;34m\u001b[0m\u001b[0m\n\u001b[0;32m--> 216\u001b[0;31m             \u001b[0;32myield\u001b[0m \u001b[0;32mfrom\u001b[0m \u001b[0mself\u001b[0m\u001b[0;34m.\u001b[0m\u001b[0m_plot_args\u001b[0m\u001b[0;34m(\u001b[0m\u001b[0mthis\u001b[0m\u001b[0;34m,\u001b[0m \u001b[0mkwargs\u001b[0m\u001b[0;34m)\u001b[0m\u001b[0;34m\u001b[0m\u001b[0;34m\u001b[0m\u001b[0m\n\u001b[0m\u001b[1;32m    217\u001b[0m \u001b[0;34m\u001b[0m\u001b[0m\n\u001b[1;32m    218\u001b[0m     \u001b[0;32mdef\u001b[0m \u001b[0mget_next_color\u001b[0m\u001b[0;34m(\u001b[0m\u001b[0mself\u001b[0m\u001b[0;34m)\u001b[0m\u001b[0;34m:\u001b[0m\u001b[0;34m\u001b[0m\u001b[0;34m\u001b[0m\u001b[0m\n",
            "\u001b[0;32m/usr/local/lib/python3.7/dist-packages/matplotlib/axes/_base.py\u001b[0m in \u001b[0;36m_plot_args\u001b[0;34m(self, tup, kwargs)\u001b[0m\n\u001b[1;32m    340\u001b[0m \u001b[0;34m\u001b[0m\u001b[0m\n\u001b[1;32m    341\u001b[0m         \u001b[0;32mif\u001b[0m \u001b[0mx\u001b[0m\u001b[0;34m.\u001b[0m\u001b[0mshape\u001b[0m\u001b[0;34m[\u001b[0m\u001b[0;36m0\u001b[0m\u001b[0;34m]\u001b[0m \u001b[0;34m!=\u001b[0m \u001b[0my\u001b[0m\u001b[0;34m.\u001b[0m\u001b[0mshape\u001b[0m\u001b[0;34m[\u001b[0m\u001b[0;36m0\u001b[0m\u001b[0;34m]\u001b[0m\u001b[0;34m:\u001b[0m\u001b[0;34m\u001b[0m\u001b[0;34m\u001b[0m\u001b[0m\n\u001b[0;32m--> 342\u001b[0;31m             raise ValueError(f\"x and y must have same first dimension, but \"\n\u001b[0m\u001b[1;32m    343\u001b[0m                              f\"have shapes {x.shape} and {y.shape}\")\n\u001b[1;32m    344\u001b[0m         \u001b[0;32mif\u001b[0m \u001b[0mx\u001b[0m\u001b[0;34m.\u001b[0m\u001b[0mndim\u001b[0m \u001b[0;34m>\u001b[0m \u001b[0;36m2\u001b[0m \u001b[0;32mor\u001b[0m \u001b[0my\u001b[0m\u001b[0;34m.\u001b[0m\u001b[0mndim\u001b[0m \u001b[0;34m>\u001b[0m \u001b[0;36m2\u001b[0m\u001b[0;34m:\u001b[0m\u001b[0;34m\u001b[0m\u001b[0;34m\u001b[0m\u001b[0m\n",
            "\u001b[0;31mValueError\u001b[0m: x and y must have same first dimension, but have shapes (1,) and (0,)"
          ]
        },
        {
          "output_type": "display_data",
          "data": {
            "image/png": "[encoded data removed]",
            "text/plain": [
              "<Figure size 432x288 with 1 Axes>"
            ]
          },
          "metadata": {
            "tags": [],
            "needs_background": "light"
          }
        }
      ]
    }
  ]
}