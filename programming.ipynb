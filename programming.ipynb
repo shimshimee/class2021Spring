{
  "nbformat": 4,
  "nbformat_minor": 0,
  "metadata": {
    "colab": {
      "name": "programming.ipynb",
      "provenance": [],
      "authorship_tag": "ABX9TyMSFgkBrOSS40i8evgKQuu2",
      "include_colab_link": true
    },
    "kernelspec": {
      "name": "python3",
      "display_name": "Python 3"
    }
  },
  "cells": [
    {
      "cell_type": "markdown",
      "metadata": {
        "id": "view-in-github",
        "colab_type": "text"
      },
      "source": [
        "<a href=\"https://colab.research.google.com/github/shimshimee/class2021Spring/blob/main/programming.ipynb\" target=\"_parent\"><img src=\"https://colab.research.google.com/assets/colab-badge.svg\" alt=\"Open In Colab\"/></a>"
      ]
    },
    {
      "cell_type": "markdown",
      "metadata": {
        "id": "VddWArS8o4HT"
      },
      "source": [
        "인간의 언어는 단어와 문법으로 이루어져 있다.\r\n",
        "프로그래밍 lg의 단어는 변수, 문법은 제어문이다.\r\n",
        "\r\n",
        "# **변수**\r\n",
        "a=1이라고 할 때,\r\n",
        "a가 variable(변수)이다.\r\n",
        "\r\n",
        "# **제어문**\r\n",
        "1. 반복: for\r\n",
        "2. 조건: if\r\n",
        "\r\n",
        "# **함수**\r\n",
        "입력(input) --변화(function)--> 출력(output)\r\n",
        "함수는 입출력 관계를 말한다.\r\n"
      ]
    }
  ]
}