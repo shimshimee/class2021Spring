{
  "nbformat": 4,
  "nbformat_minor": 0,
  "metadata": {
    "colab": {
      "name": "중간대비.ipynb",
      "provenance": [],
      "authorship_tag": "ABX9TyOP6djszzi95rHf6UZtddGn",
      "include_colab_link": true
    },
    "kernelspec": {
      "name": "python3",
      "display_name": "Python 3"
    },
    "language_info": {
      "name": "python"
    }
  },
  "cells": [
    {
      "cell_type": "markdown",
      "metadata": {
        "id": "view-in-github",
        "colab_type": "text"
      },
      "source": [
        "<a href=\"https://colab.research.google.com/github/shimshimee/class2021Spring/blob/main/%EC%A4%91%EA%B0%84%EB%8C%80%EB%B9%84.ipynb\" target=\"_parent\"><img src=\"https://colab.research.google.com/assets/colab-badge.svg\" alt=\"Open In Colab\"/></a>"
      ]
    },
    {
      "cell_type": "code",
      "metadata": {
        "id": "il1iYxowtGdO"
      },
      "source": [
        "class cal: #class = 함수+변수\n",
        "  def __init__(self): #self = 변수\n",
        "    self.result = 0\n",
        "  def add(self, n):\n",
        "    self.result += n\n",
        "    return self.result"
      ],
      "execution_count": 80,
      "outputs": []
    },
    {
      "cell_type": "code",
      "metadata": {
        "colab": {
          "base_uri": "https://localhost:8080/"
        },
        "id": "nq-BGR9AteCd",
        "outputId": "e4fa2a8e-a005-4024-ba69-40f9ce6cd768"
      },
      "source": [
        "A = cal() #A = 객체\n",
        "A.result"
      ],
      "execution_count": 104,
      "outputs": [
        {
          "output_type": "execute_result",
          "data": {
            "text/plain": [
              "0"
            ]
          },
          "metadata": {
            "tags": []
          },
          "execution_count": 104
        }
      ]
    },
    {
      "cell_type": "code",
      "metadata": {
        "colab": {
          "base_uri": "https://localhost:8080/"
        },
        "id": "dPBCE1estoRN",
        "outputId": "0e47968c-423a-4eef-addc-c30426f61fd5"
      },
      "source": [
        "A.add(4)\n",
        "A.add(6)"
      ],
      "execution_count": 105,
      "outputs": [
        {
          "output_type": "execute_result",
          "data": {
            "text/plain": [
              "10"
            ]
          },
          "metadata": {
            "tags": []
          },
          "execution_count": 105
        }
      ]
    },
    {
      "cell_type": "code",
      "metadata": {
        "id": "Dg_MeT_auTDg"
      },
      "source": [
        "import numpy as np #package\n",
        "n = np.random.randn(100) #randn: 정규분포를 가지는 수"
      ],
      "execution_count": 83,
      "outputs": []
    },
    {
      "cell_type": "code",
      "metadata": {
        "id": "bEndUvkUuaL-"
      },
      "source": [
        "import matplotlib #folder\n",
        "import matplotlib.pyplot #module\n",
        "from matplotlib import pyplot\n",
        "from matplotlib.pyplot import hist #function"
      ],
      "execution_count": null,
      "outputs": []
    },
    {
      "cell_type": "code",
      "metadata": {
        "colab": {
          "base_uri": "https://localhost:8080/"
        },
        "id": "gRYERFX_zI2K",
        "outputId": "a90f227a-31c9-4158-b4ab-360ca1d78c3c"
      },
      "source": [
        "X = np.array([[1,2],[3,4],[5,6]])\n",
        "X.astype(np.float64) #소수점 있는 숫자로 바꿈\n",
        "np.zeros_like(X) #전부 0으로 바꿈"
      ],
      "execution_count": 101,
      "outputs": [
        {
          "output_type": "execute_result",
          "data": {
            "text/plain": [
              "array([[0, 0],\n",
              "       [0, 0],\n",
              "       [0, 0]])"
            ]
          },
          "metadata": {
            "tags": []
          },
          "execution_count": 101
        }
      ]
    },
    {
      "cell_type": "code",
      "metadata": {
        "colab": {
          "base_uri": "https://localhost:8080/"
        },
        "id": "Y1MVKWbA6uyg",
        "outputId": "63dd6895-9127-4d59-c81c-5d4346809b6b"
      },
      "source": [
        "X = np.ones([2, 3, 4])\n",
        "Y = X.reshape(6,1,4)\n",
        "Y"
      ],
      "execution_count": 115,
      "outputs": [
        {
          "output_type": "execute_result",
          "data": {
            "text/plain": [
              "array([[[1., 1., 1., 1.]],\n",
              "\n",
              "       [[1., 1., 1., 1.]],\n",
              "\n",
              "       [[1., 1., 1., 1.]],\n",
              "\n",
              "       [[1., 1., 1., 1.]],\n",
              "\n",
              "       [[1., 1., 1., 1.]],\n",
              "\n",
              "       [[1., 1., 1., 1.]]])"
            ]
          },
          "metadata": {
            "tags": []
          },
          "execution_count": 115
        }
      ]
    },
    {
      "cell_type": "code",
      "metadata": {
        "colab": {
          "base_uri": "https://localhost:8080/"
        },
        "id": "j060gYHG8Hyf",
        "outputId": "bcf74175-1c72-4671-c603-804a1164800e"
      },
      "source": [
        "arr = np.random.random([8,2,3])\n",
        "print(type(arr))\n",
        "print(len(arr)) #가장 큰 list의 개수\n",
        "print(arr.shape)\n",
        "print(arr.ndim) #차원\n",
        "print(arr.size)\n",
        "print(arr.dtype)"
      ],
      "execution_count": 132,
      "outputs": [
        {
          "output_type": "stream",
          "text": [
            "<class 'numpy.ndarray'>\n",
            "8\n",
            "(8, 2, 3)\n",
            "3\n",
            "48\n",
            "float64\n"
          ],
          "name": "stdout"
        }
      ]
    },
    {
      "cell_type": "code",
      "metadata": {
        "colab": {
          "base_uri": "https://localhost:8080/"
        },
        "id": "Gdfr-OGE9kvq",
        "outputId": "c9cbd307-6661-40df-e5da-7414f77719a5"
      },
      "source": [
        "a = np.arange(1,5)\n",
        "b = np.arange(9,5,-1)\n",
        "a = np.matrix(a)\n",
        "b = np.matrix(b)\n",
        "print(a)\n",
        "print(b.T)"
      ],
      "execution_count": 139,
      "outputs": [
        {
          "output_type": "stream",
          "text": [
            "[[1 2 3 4]]\n",
            "[[9]\n",
            " [8]\n",
            " [7]\n",
            " [6]]\n"
          ],
          "name": "stdout"
        }
      ]
    }
  ]
}